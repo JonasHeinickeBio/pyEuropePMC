{
 "cells": [
  {
   "cell_type": "markdown",
   "id": "d042f81c",
   "metadata": {},
   "source": [
    "# PyEuropePMC Basic Usage Examples\n",
    "\n",
    "This notebook demonstrates various ways to use PyEuropePMC to search and retrieve scientific literature from Europe PMC.\n",
    "\n",
    "## Setup\n",
    "\n",
    "First, let's import the necessary libraries and configure logging."
   ]
  },
  {
   "cell_type": "code",
   "execution_count": 1,
   "id": "875e70d1",
   "metadata": {},
   "outputs": [],
   "source": [
    "import logging\n",
    "import pprint\n",
    "from typing import Any, Dict, List, Optional\n",
    "\n",
    "# Import the main classes\n",
    "from pyeuropepmc.search import EuropePMCError, SearchClient\n",
    "\n",
    "# Configure logging to see what's happening\n",
    "logging.basicConfig(level=logging.INFO, format=\"%(asctime)s - %(levelname)s - %(message)s\")"
   ]
  },
  {
   "cell_type": "markdown",
   "id": "defb7cb7",
   "metadata": {},
   "source": [
    "## Basic Search Example\n",
    "\n",
    "Let's start with a simple search for papers about CRISPR gene editing."
   ]
  },
  {
   "cell_type": "code",
   "execution_count": null,
   "id": "48db18ce",
   "metadata": {},
   "outputs": [
    {
     "name": "stderr",
     "output_type": "stream",
     "text": [
      "2025-07-03 11:37:21,213 - INFO - Performing search with params: {'query': 'CRISPR gene editing', 'resultType': 'lite', 'synonym': 'FALSE', 'pageSize': 5, 'format': 'json', 'cursorMark': '*', 'sort': ''}\n"
     ]
    },
    {
     "name": "stdout",
     "output_type": "stream",
     "text": [
      "=== Basic Search Example ===\n"
     ]
    },
    {
     "name": "stderr",
     "output_type": "stream",
     "text": [
      "2025-07-03 11:37:21,404 - INFO - GET request to https://www.ebi.ac.uk/europepmc/webservices/rest/search succeeded with status 200\n"
     ]
    },
    {
     "name": "stdout",
     "output_type": "stream",
     "text": [
      "Found 103397 total papers\n",
      "Retrieved 5 papers\n",
      "\n",
      "1. Lipid Nanoparticles for Delivery of CRISPR Gene Editing Components.\n",
      "   Authors: Wu F, Li N, Xiao Y, Palanki R, Yamagata H, Mitchell MJ, Han X.\n",
      "   Journal: Small Methods\n",
      "   Year: 2025\n",
      "\n",
      "2. Transforming Pharmacogenomics and CRISPR Gene Editing with the Power of Artificial Intelligence for Precision Medicine.\n",
      "   Authors: Srivastav AK, Mishra MK, Lillard JW, Singh R.\n",
      "   Journal: Pharmaceutics\n",
      "   Year: 2025\n",
      "\n",
      "3. Vectors in CRISPR Gene Editing for Neurological Disorders: Challenges and Opportunities.\n",
      "   Authors: Xiong K, Wang X, Feng C, Zhang K, Chen D, Yang S.\n",
      "   Journal: Adv Biol (Weinh)\n",
      "   Year: 2025\n"
     ]
    }
   ],
   "source": [
    "print(\"=== Basic Search Example ===\")\n",
    "\n",
    "with SearchClient(rate_limit_delay=0.5) as client:\n",
    "    try:\n",
    "        # Simple search\n",
    "        results: Dict[str, Any] = client.search(\n",
    "            \"CRISPR gene editing\", page_size=5, format=\"json\"\n",
    "        ) # type: ignore\n",
    "\n",
    "        print(f\"Found {results.get('hitCount', 0)} total papers\")\n",
    "        print(f\"Retrieved {len(results.get('resultList', {}).get('result', []))} papers\")\n",
    "\n",
    "        # Display first few results\n",
    "        for i, paper in enumerate(results.get(\"resultList\", {}).get(\"result\", [])[:3]):\n",
    "            print(f\"\\n{i + 1}. {paper.get('title', 'No title')}\")\n",
    "            print(f\"   Authors: {paper.get('authorString', 'N/A')}\")\n",
    "            print(f\"   Journal: {paper.get('journalTitle', 'N/A')}\")\n",
    "            print(f\"   Year: {paper.get('pubYear', 'N/A')}\")\n",
    "\n",
    "    except EuropePMCError as e:\n",
    "        print(f\"Search failed: {e}\")"
   ]
  },
  {
   "cell_type": "markdown",
   "id": "68e1970f",
   "metadata": {},
   "source": [
    "### Raw Output Inspection\n",
    "\n",
    "Let's examine the raw structure of a search result:"
   ]
  },
  {
   "cell_type": "code",
   "execution_count": 10,
   "id": "b7765bb6",
   "metadata": {},
   "outputs": [
    {
     "name": "stdout",
     "output_type": "stream",
     "text": [
      "Raw output of first result:\n",
      "{'authorString': 'Sikkema L, Lkandushi M, Scarcella D, Moinfar AA, Engelmann '\n",
      "                 'J, Theis FJ.',\n",
      " 'bookOrReportDetails': {'publisher': 'bioRxiv', 'yearOfPublication': 2025},\n",
      " 'citedByCount': 0,\n",
      " 'doi': '10.1101/2025.05.23.655749',\n",
      " 'firstIndexDate': '2025-05-30',\n",
      " 'firstPublicationDate': '2025-05-28',\n",
      " 'fullTextIdList': {'fullTextId': ['PPR1027522']},\n",
      " 'hasBook': 'N',\n",
      " 'hasDbCrossReferences': 'N',\n",
      " 'hasLabsLinks': 'Y',\n",
      " 'hasPDF': 'Y',\n",
      " 'hasReferences': 'Y',\n",
      " 'hasSuppl': 'Y',\n",
      " 'hasTMAccessionNumbers': 'N',\n",
      " 'hasTextMinedTerms': 'Y',\n",
      " 'id': 'PPR1027522',\n",
      " 'inEPMC': 'Y',\n",
      " 'inPMC': 'N',\n",
      " 'isOpenAccess': 'Y',\n",
      " 'pubType': 'preprint',\n",
      " 'pubYear': '2025',\n",
      " 'source': 'PPR',\n",
      " 'title': 'Automated evaluation of single-cell reference atlas mappings '\n",
      "          'enables the identification of disease-associated cell states'}\n"
     ]
    }
   ],
   "source": [
    "# Show raw output of the first result\n",
    "if results.get(\"resultList\", {}).get(\"result\", []):\n",
    "    print(\"Raw output of first result:\")\n",
    "    first_result: Dict[str, Any] = results.get(\"resultList\", {}).get(\"result\", [])[0]\n",
    "    pprint.pprint(first_result)"
   ]
  },
  {
   "cell_type": "markdown",
   "id": "b6f374f6",
   "metadata": {},
   "source": [
    "## Advanced Search with Parsing\n",
    "\n",
    "Now let's demonstrate more advanced search functionality with automatic parsing."
   ]
  },
  {
   "cell_type": "code",
   "execution_count": 4,
   "id": "23ac4991",
   "metadata": {},
   "outputs": [
    {
     "name": "stderr",
     "output_type": "stream",
     "text": [
      "2025-07-03 11:37:21,950 - INFO - Performing search with params: {'query': 'COVID-19 AND vaccine', 'resultType': 'lite', 'synonym': 'FALSE', 'pageSize': 10, 'format': 'json', 'cursorMark': '*', 'sort': 'CITED desc'}\n"
     ]
    },
    {
     "name": "stdout",
     "output_type": "stream",
     "text": [
      "=== Advanced Search with Parsing ===\n"
     ]
    },
    {
     "name": "stderr",
     "output_type": "stream",
     "text": [
      "2025-07-03 11:37:22,177 - INFO - GET request to https://www.ebi.ac.uk/europepmc/webservices/rest/search succeeded with status 200\n"
     ]
    },
    {
     "name": "stdout",
     "output_type": "stream",
     "text": [
      "Retrieved 10 papers\n",
      "\n",
      "1. [10245 citations] Safety and Efficacy of the BNT162b2 mRNA Covid-19 Vaccine.\n",
      "   DOI: 10.1056/nejmoa2034577\n",
      "\n",
      "2. [8661 citations] Integrated analysis of multimodal single-cell data.\n",
      "   DOI: 10.1016/j.cell.2021.04.048\n",
      "\n",
      "3. [7266 citations] Efficacy and Safety of the mRNA-1273 SARS-CoV-2 Vaccine.\n",
      "   DOI: 10.1056/nejmoa2035389\n",
      "\n",
      "4. [6567 citations] Global burden of bacterial antimicrobial resistance in 2019: a systematic analysis.\n",
      "   DOI: 10.1016/s0140-6736(21)02724-0\n",
      "\n",
      "5. [6170 citations] Cryo-EM structure of the 2019-nCoV spike in the prefusion conformation.\n",
      "   DOI: 10.1126/science.abb2507\n"
     ]
    }
   ],
   "source": [
    "print(\"=== Advanced Search with Parsing ===\")\n",
    "\n",
    "with SearchClient() as client:\n",
    "    try:\n",
    "        # Search and parse results automatically\n",
    "        papers: List[Dict[str, Any]] = client.search_and_parse(\n",
    "            query=\"COVID-19 AND vaccine\",\n",
    "            format=\"json\",\n",
    "            pageSize=10,\n",
    "            sort=\"CITED desc\",  # Most cited first\n",
    "        )\n",
    "\n",
    "        print(f\"Retrieved {len(papers)} papers\")\n",
    "\n",
    "        # Display top cited papers\n",
    "        for i, paper in enumerate(papers[:5]):\n",
    "            citations: int = paper.get(\"citedByCount\", 0)\n",
    "            print(f\"\\n{i + 1}. [{citations} citations] {paper.get('title', 'No title')}\")\n",
    "            print(f\"   DOI: {paper.get('doi', 'N/A')}\")\n",
    "\n",
    "    except EuropePMCError as e:\n",
    "        print(f\"Advanced search failed: {e}\")"
   ]
  },
  {
   "cell_type": "markdown",
   "id": "28709f27",
   "metadata": {},
   "source": [
    "## Pagination Example\n",
    "\n",
    "For large result sets, we can automatically fetch multiple pages."
   ]
  },
  {
   "cell_type": "code",
   "execution_count": 5,
   "id": "5c99b245",
   "metadata": {},
   "outputs": [
    {
     "name": "stderr",
     "output_type": "stream",
     "text": [
      "2025-07-03 11:37:23,203 - INFO - Performing search with params: {'query': 'machine learning bioinformatics', 'resultType': 'lite', 'synonym': 'FALSE', 'pageSize': 25, 'format': 'json', 'cursorMark': '*', 'sort': ''}\n"
     ]
    },
    {
     "name": "stdout",
     "output_type": "stream",
     "text": [
      "=== Pagination Example ===\n"
     ]
    },
    {
     "name": "stderr",
     "output_type": "stream",
     "text": [
      "2025-07-03 11:37:23,453 - INFO - GET request to https://www.ebi.ac.uk/europepmc/webservices/rest/search succeeded with status 200\n",
      "2025-07-03 11:37:24,457 - INFO - Performing search with params: {'query': 'machine learning bioinformatics', 'resultType': 'lite', 'synonym': 'FALSE', 'pageSize': 25, 'format': 'json', 'cursorMark': 'AoIIQJYM0ig1MzE3Mzk0Ng==', 'sort': ''}\n",
      "2025-07-03 11:37:24,457 - INFO - Performing search with params: {'query': 'machine learning bioinformatics', 'resultType': 'lite', 'synonym': 'FALSE', 'pageSize': 25, 'format': 'json', 'cursorMark': 'AoIIQJYM0ig1MzE3Mzk0Ng==', 'sort': ''}\n",
      "2025-07-03 11:37:24,655 - INFO - GET request to https://www.ebi.ac.uk/europepmc/webservices/rest/search succeeded with status 200\n",
      "2025-07-03 11:37:24,655 - INFO - GET request to https://www.ebi.ac.uk/europepmc/webservices/rest/search succeeded with status 200\n",
      "2025-07-03 11:37:25,658 - INFO - Performing search with params: {'query': 'machine learning bioinformatics', 'resultType': 'lite', 'synonym': 'FALSE', 'pageSize': 25, 'format': 'json', 'cursorMark': 'AoIIQJG14ig1MjkxNjYyNQ==', 'sort': ''}\n",
      "2025-07-03 11:37:25,658 - INFO - Performing search with params: {'query': 'machine learning bioinformatics', 'resultType': 'lite', 'synonym': 'FALSE', 'pageSize': 25, 'format': 'json', 'cursorMark': 'AoIIQJG14ig1MjkxNjYyNQ==', 'sort': ''}\n",
      "2025-07-03 11:37:25,883 - INFO - GET request to https://www.ebi.ac.uk/europepmc/webservices/rest/search succeeded with status 200\n",
      "2025-07-03 11:37:25,883 - INFO - GET request to https://www.ebi.ac.uk/europepmc/webservices/rest/search succeeded with status 200\n",
      "2025-07-03 11:37:26,885 - INFO - Performing search with params: {'query': 'machine learning bioinformatics', 'resultType': 'lite', 'synonym': 'FALSE', 'pageSize': 25, 'format': 'json', 'cursorMark': 'AoIIQI7qICg1Mjg4NTc4NA==', 'sort': ''}\n",
      "2025-07-03 11:37:26,885 - INFO - Performing search with params: {'query': 'machine learning bioinformatics', 'resultType': 'lite', 'synonym': 'FALSE', 'pageSize': 25, 'format': 'json', 'cursorMark': 'AoIIQI7qICg1Mjg4NTc4NA==', 'sort': ''}\n",
      "2025-07-03 11:37:27,113 - INFO - GET request to https://www.ebi.ac.uk/europepmc/webservices/rest/search succeeded with status 200\n",
      "2025-07-03 11:37:27,113 - INFO - GET request to https://www.ebi.ac.uk/europepmc/webservices/rest/search succeeded with status 200\n"
     ]
    },
    {
     "name": "stdout",
     "output_type": "stream",
     "text": [
      "Retrieved 100 papers across multiple pages\n",
      "\n",
      "Publication years distribution:\n",
      "  2025: 96 papers\n",
      "  2024: 3 papers\n",
      "  2021: 1 papers\n"
     ]
    }
   ],
   "source": [
    "print(\"=== Pagination Example ===\")\n",
    "\n",
    "with SearchClient() as client:\n",
    "    try:\n",
    "        # Fetch multiple pages automatically\n",
    "        all_papers: List[Dict[str, Any]] = client.fetch_all_pages(\n",
    "            query=\"machine learning bioinformatics\",\n",
    "            page_size=25,\n",
    "            max_results=100,  # Limit to 100 papers total\n",
    "        )\n",
    "\n",
    "        print(f\"Retrieved {len(all_papers)} papers across multiple pages\")\n",
    "\n",
    "        # Analyze publication years\n",
    "        years: Dict[str, int] = {}\n",
    "        for paper in all_papers:\n",
    "            year: Optional[str] = paper.get(\"pubYear\")\n",
    "            if year:\n",
    "                years[year] = years.get(year, 0) + 1\n",
    "\n",
    "        print(\"\\nPublication years distribution:\")\n",
    "        for year in sorted(years.keys(), reverse=True)[:5]:\n",
    "            print(f\"  {year}: {years[year]} papers\")\n",
    "\n",
    "    except EuropePMCError as e:\n",
    "        print(f\"Pagination example failed: {e}\")"
   ]
  },
  {
   "cell_type": "markdown",
   "id": "5fcb7495",
   "metadata": {},
   "source": [
    "## Search Parameters Example\n",
    "\n",
    "Let's explore various search parameters and query syntax."
   ]
  },
  {
   "cell_type": "code",
   "execution_count": null,
   "id": "1a04b6cf",
   "metadata": {},
   "outputs": [
    {
     "name": "stderr",
     "output_type": "stream",
     "text": [
      "2025-07-03 11:37:28,137 - INFO - Performing search with params: {'query': 'AUTHOR:\"Smith J\" AND JOURNAL:\"Nature\"', 'resultType': 'core', 'synonym': 'FALSE', 'pageSize': 5, 'format': 'json', 'cursorMark': '*', 'sort': ''}\n",
      "2025-07-03 11:37:28,298 - INFO - GET request to https://www.ebi.ac.uk/europepmc/webservices/rest/search succeeded with status 200\n",
      "2025-07-03 11:37:28,298 - INFO - GET request to https://www.ebi.ac.uk/europepmc/webservices/rest/search succeeded with status 200\n"
     ]
    },
    {
     "name": "stdout",
     "output_type": "stream",
     "text": [
      "=== Search Parameters Example ===\n",
      "Found 5 papers by 'Smith J' in 'Nature'\n",
      "\n",
      "- Daily briefing: Researchers re-enact an epic ancient canoe trip.\n",
      "  Abstract: N/A...\n",
      "\n",
      "- Daily briefing: Some moths can navigate using starlight.\n",
      "  Abstract: N/A...\n",
      "\n",
      "- Daily briefing: Physical masks created using AI can restore damaged paintings.\n",
      "  Abstract: N/A...\n",
      "\n",
      "- Daily briefing: Travel bans, revoked visas and yet more funding cuts - the latest in Trump's attack on science.\n",
      "  Abstract: N/A...\n",
      "\n",
      "- Daily briefing: The sweet smell of outer space.\n",
      "  Abstract: N/A...\n",
      "Found 5 papers by 'Smith J' in 'Nature'\n",
      "\n",
      "- Daily briefing: Researchers re-enact an epic ancient canoe trip.\n",
      "  Abstract: N/A...\n",
      "\n",
      "- Daily briefing: Some moths can navigate using starlight.\n",
      "  Abstract: N/A...\n",
      "\n",
      "- Daily briefing: Physical masks created using AI can restore damaged paintings.\n",
      "  Abstract: N/A...\n",
      "\n",
      "- Daily briefing: Travel bans, revoked visas and yet more funding cuts - the latest in Trump's attack on science.\n",
      "  Abstract: N/A...\n",
      "\n",
      "- Daily briefing: The sweet smell of outer space.\n",
      "  Abstract: N/A...\n"
     ]
    }
   ],
   "source": [
    "print(\"=== Search Parameters Example ===\")\n",
    "\n",
    "with SearchClient() as client:\n",
    "    try:\n",
    "        # Search with specific parameters\n",
    "        results: Dict[str, Any] = client.search(\n",
    "            query='AUTHOR:\"Smith J\" AND JOURNAL:\"Nature\"',\n",
    "            resultType=\"core\",  # Get full metadata\n",
    "            pageSize=5,\n",
    "            format=\"json\",\n",
    "        ) # type: ignore\n",
    "\n",
    "        papers: List[Dict[str, Any]] = results.get(\"resultList\", {}).get(\"result\", [])\n",
    "        print(f\"Found {len(papers)} papers by 'Smith J' in 'Nature'\")\n",
    "\n",
    "        for paper in papers:\n",
    "            print(f\"\\n- {paper.get('title', 'No title')}\")\n",
    "            abstract: str = paper.get(\"abstractText\", \"N/A\")\n",
    "            print(f\"  Abstract: {abstract[:100]}...\")\n",
    "\n",
    "    except EuropePMCError as e:\n",
    "        print(f\"Parameter search failed: {e}\")"
   ]
  },
  {
   "cell_type": "markdown",
   "id": "5d5f5912",
   "metadata": {},
   "source": [
    "## Hit Count Example\n",
    "\n",
    "Sometimes we just want to know how many papers match our query without retrieving the results."
   ]
  },
  {
   "cell_type": "code",
   "execution_count": 7,
   "id": "12e1e7bd",
   "metadata": {},
   "outputs": [
    {
     "name": "stderr",
     "output_type": "stream",
     "text": [
      "2025-07-03 11:37:29,324 - INFO - Performing search with params: {'query': 'artificial intelligence', 'resultType': 'lite', 'synonym': 'FALSE', 'pageSize': 1, 'format': 'json', 'cursorMark': '*', 'sort': ''}\n"
     ]
    },
    {
     "name": "stdout",
     "output_type": "stream",
     "text": [
      "=== Hit Count Example ===\n"
     ]
    },
    {
     "name": "stderr",
     "output_type": "stream",
     "text": [
      "2025-07-03 11:37:29,505 - INFO - GET request to https://www.ebi.ac.uk/europepmc/webservices/rest/search succeeded with status 200\n",
      "2025-07-03 11:37:30,508 - INFO - Performing search with params: {'query': 'CRISPR', 'resultType': 'lite', 'synonym': 'FALSE', 'pageSize': 1, 'format': 'json', 'cursorMark': '*', 'sort': ''}\n",
      "2025-07-03 11:37:30,508 - INFO - Performing search with params: {'query': 'CRISPR', 'resultType': 'lite', 'synonym': 'FALSE', 'pageSize': 1, 'format': 'json', 'cursorMark': '*', 'sort': ''}\n",
      "2025-07-03 11:37:30,556 - INFO - GET request to https://www.ebi.ac.uk/europepmc/webservices/rest/search succeeded with status 200\n",
      "2025-07-03 11:37:30,556 - INFO - GET request to https://www.ebi.ac.uk/europepmc/webservices/rest/search succeeded with status 200\n"
     ]
    },
    {
     "name": "stdout",
     "output_type": "stream",
     "text": [
      "'artificial intelligence': 292,313 papers\n"
     ]
    },
    {
     "name": "stderr",
     "output_type": "stream",
     "text": [
      "2025-07-03 11:37:31,560 - INFO - Performing search with params: {'query': 'COVID-19', 'resultType': 'lite', 'synonym': 'FALSE', 'pageSize': 1, 'format': 'json', 'cursorMark': '*', 'sort': ''}\n",
      "2025-07-03 11:37:31,703 - INFO - GET request to https://www.ebi.ac.uk/europepmc/webservices/rest/search succeeded with status 200\n",
      "2025-07-03 11:37:31,703 - INFO - GET request to https://www.ebi.ac.uk/europepmc/webservices/rest/search succeeded with status 200\n"
     ]
    },
    {
     "name": "stdout",
     "output_type": "stream",
     "text": [
      "'CRISPR': 184,279 papers\n"
     ]
    },
    {
     "name": "stderr",
     "output_type": "stream",
     "text": [
      "2025-07-03 11:37:32,706 - INFO - Performing search with params: {'query': 'climate change biology', 'resultType': 'lite', 'synonym': 'FALSE', 'pageSize': 1, 'format': 'json', 'cursorMark': '*', 'sort': ''}\n",
      "2025-07-03 11:37:32,799 - INFO - GET request to https://www.ebi.ac.uk/europepmc/webservices/rest/search succeeded with status 200\n",
      "2025-07-03 11:37:32,799 - INFO - GET request to https://www.ebi.ac.uk/europepmc/webservices/rest/search succeeded with status 200\n"
     ]
    },
    {
     "name": "stdout",
     "output_type": "stream",
     "text": [
      "'COVID-19': 901,665 papers\n",
      "'climate change biology': 112,262 papers\n",
      "'climate change biology': 112,262 papers\n"
     ]
    }
   ],
   "source": [
    "print(\"=== Hit Count Example ===\")\n",
    "\n",
    "with SearchClient() as client:\n",
    "    queries: List[str] = [\n",
    "        \"artificial intelligence\",\n",
    "        \"CRISPR\",\n",
    "        \"COVID-19\",\n",
    "        \"climate change biology\",\n",
    "    ]\n",
    "\n",
    "    for query in queries:\n",
    "        try:\n",
    "            count: int = client.get_hit_count(query)\n",
    "            print(f\"'{query}': {count:,} papers\")\n",
    "        except EuropePMCError as e:\n",
    "            print(f\"Failed to get count for '{query}': {e}\")"
   ]
  },
  {
   "cell_type": "markdown",
   "id": "3fdc3d30",
   "metadata": {},
   "source": [
    "## Error Handling Example\n",
    "\n",
    "Let's demonstrate how to handle various error conditions gracefully."
   ]
  },
  {
   "cell_type": "code",
   "execution_count": null,
   "id": "0147c515",
   "metadata": {},
   "outputs": [
    {
     "name": "stderr",
     "output_type": "stream",
     "text": [
      "2025-07-03 11:37:33,826 - WARNING - Query contains unmatched quotes\n",
      "2025-07-03 11:37:33,830 - INFO - Performing search with params: {'query': 'normal query', 'resultType': 'lite', 'synonym': 'FALSE', 'pageSize': 1, 'format': 'json', 'cursorMark': '*', 'sort': ''}\n",
      "2025-07-03 11:37:33,830 - INFO - Performing search with params: {'query': 'normal query', 'resultType': 'lite', 'synonym': 'FALSE', 'pageSize': 1, 'format': 'json', 'cursorMark': '*', 'sort': ''}\n",
      "2025-07-03 11:37:33,963 - INFO - GET request to https://www.ebi.ac.uk/europepmc/webservices/rest/search succeeded with status 200\n",
      "2025-07-03 11:37:33,963 - INFO - GET request to https://www.ebi.ac.uk/europepmc/webservices/rest/search succeeded with status 200\n"
     ]
    },
    {
     "name": "stdout",
     "output_type": "stream",
     "text": [
      "=== Error Handling Example ===\n",
      "✗ '': Invalid query\n",
      "✗ 'a': Invalid query\n",
      "✗ 'query with \"unmatched quotes': Invalid query\n",
      "✓ 'normal query': 82997 results\n",
      "✓ 'normal query': 82997 results\n"
     ]
    }
   ],
   "source": [
    "print(\"=== Error Handling Example ===\")\n",
    "\n",
    "with SearchClient() as client:\n",
    "    # Try various problematic queries\n",
    "    problematic_queries: List[str] = [\n",
    "        \"\",  # Empty query\n",
    "        \"a\",  # Too short\n",
    "        'query with \"unmatched quotes',  # Invalid syntax\n",
    "        \"normal query\",  # This should work\n",
    "    ]\n",
    "\n",
    "    for query in problematic_queries:\n",
    "        try:\n",
    "            if client.validate_query(query):\n",
    "                results: Dict[str, Any] = client.search(query, pageSize=1) # type: ignore\n",
    "                print(f\"✓ '{query}': {results.get('hitCount', 0)} results\")\n",
    "            else:\n",
    "                print(f\"✗ '{query}': Invalid query\")\n",
    "        except EuropePMCError as e:\n",
    "            print(f\"✗ '{query}': {e}\")"
   ]
  },
  {
   "cell_type": "markdown",
   "id": "a2a7480a",
   "metadata": {},
   "source": [
    "## Summary\n",
    "\n",
    "This notebook demonstrated:\n",
    "\n",
    "1. **Basic search functionality** - Simple queries and result display\n",
    "2. **Advanced search with parsing** - Using built-in parsing methods\n",
    "3. **Pagination** - Handling large result sets across multiple pages\n",
    "4. **Search parameters** - Using specific query syntax and parameters\n",
    "5. **Hit counts** - Getting result counts without full retrieval\n",
    "6. **Error handling** - Gracefully handling various error conditions\n",
    "\n",
    "The PyEuropePMC SearchClient provides a robust interface for searching scientific literature with built-in error handling, rate limiting, and pagination support."
   ]
  }
 ],
 "metadata": {
  "kernelspec": {
   "display_name": "pyeuropepmc-py3.10",
   "language": "python",
   "name": "python3"
  },
  "language_info": {
   "codemirror_mode": {
    "name": "ipython",
    "version": 3
   },
   "file_extension": ".py",
   "mimetype": "text/x-python",
   "name": "python",
   "nbconvert_exporter": "python",
   "pygments_lexer": "ipython3",
   "version": "3.10.13"
  }
 },
 "nbformat": 4,
 "nbformat_minor": 5
}
