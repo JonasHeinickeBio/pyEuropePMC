{
 "cells": [
  {
   "cell_type": "markdown",
   "id": "d2a6aa79",
   "metadata": {},
   "source": [
    "# PyEuropePMC FullText Client Examples\n",
    "\n",
    "This notebook demonstrates how to use the FullTextClient for:\n",
    "\n",
    "1. Checking full text availability for articles\n",
    "2. Downloading PDFs and XML files with validation and fallback mechanisms\n",
    "3. Bulk XML download from Europe PMC FTP OA archives\n",
    "4. Retrieving full text content as strings\n",
    "5. Performing batch downloads\n",
    "6. Handling errors gracefully\n",
    "7. Integration with SearchClient\n",
    "\n",
    "## Important Note: Europe PMC Endpoints\n",
    "\n",
    "The Europe PMC API has different endpoint structures for different formats:\n",
    "\n",
    "- **XML**: Uses direct REST API endpoint (`/PMC{id}/fullTextXML`) with bulk FTP fallback\n",
    "- **PDF**: Uses render endpoint (`?pdf=render`) with backend and ZIP fallbacks\n",
    "- **HTML**: Uses web interface when available (supports both PMC and MED formats)\n",
    "\n",
    "## PDF Download & Validation\n",
    "\n",
    "The client now includes robust PDF validation:\n",
    "- Checks PDF header (`%PDF`) to ensure valid format\n",
    "- Verifies minimum file size to avoid empty downloads\n",
    "- Uses temporary files during download to prevent corrupted saves\n",
    "- Only saves files that pass validation checks\n",
    "\n",
    "## XML Download with Bulk FTP Support\n",
    "\n",
    "XML downloads support multiple sources:\n",
    "- **Primary**: REST API endpoint for individual articles\n",
    "- **Fallback**: Europe PMC FTP OA bulk archives (`.xml.gz` files)\n",
    "- **Smart fallback**: Automatically determines correct archive based on PMC ID range\n",
    "- **Bulk-only option**: Direct bulk download method available\n",
    "\n",
    "The bulk archives are organized by PMC ID ranges (e.g., `PMC1000000_PMC1099999.xml.gz`) and are automatically unpacked to extract the specific article XML.\n",
    "\n",
    "## Setup\n",
    "\n",
    "First, let's import the necessary libraries and set up logging."
   ]
  },
  {
   "cell_type": "code",
   "execution_count": 1,
   "id": "0fbea924",
   "metadata": {},
   "outputs": [],
   "source": [
    "import logging\n",
    "from pathlib import Path\n",
    "\n",
    "from pyeuropepmc import FullTextClient, FullTextError\n",
    "\n",
    "# Set up logging\n",
    "logging.basicConfig(\n",
    "    level=logging.INFO, format=\"%(asctime)s - %(name)s - %(levelname)s - %(message)s\"\n",
    ")"
   ]
  },
  {
   "cell_type": "markdown",
   "id": "6c522c94",
   "metadata": {},
   "source": [
    "## Example 1: Check Full Text Availability\n",
    "\n",
    "Let's check what full text formats are available for different articles.\n",
    "\n",
    "**Note**: \n",
    "- XML availability is checked via REST API\n",
    "- PDF availability is checked via render endpoint\n",
    "- HTML availability is checked via web interface (supports both PMC and MED formats)"
   ]
  },
  {
   "cell_type": "code",
   "execution_count": 2,
   "id": "6cbf35ad",
   "metadata": {},
   "outputs": [
    {
     "name": "stderr",
     "output_type": "stream",
     "text": [
      "2025-07-15 14:40:14,524 - pyeuropepmc.base - INFO - Checking fulltext availability for PMC ID: 3312970\n"
     ]
    },
    {
     "name": "stdout",
     "output_type": "stream",
     "text": [
      "=== Checking Full Text Availability ===\n",
      "\n",
      "Checking availability for PMC3312970:\n"
     ]
    },
    {
     "name": "stderr",
     "output_type": "stream",
     "text": [
      "2025-07-15 14:40:14,857 - pyeuropepmc.base - INFO - Availability for PMC3312970: {'pdf': False, 'xml': False, 'html': True}\n",
      "2025-07-15 14:40:14,858 - pyeuropepmc.base - INFO - Checking fulltext availability for PMC ID: 4123456\n",
      "2025-07-15 14:40:14,858 - pyeuropepmc.base - INFO - Checking fulltext availability for PMC ID: 4123456\n"
     ]
    },
    {
     "name": "stdout",
     "output_type": "stream",
     "text": [
      "  PDF: ✗ Not available\n",
      "  XML: ✗ Not available\n",
      "  HTML: ✓ Available (requires MED ID to check)\n",
      "\n",
      "Checking availability for PMC4123456:\n"
     ]
    },
    {
     "name": "stderr",
     "output_type": "stream",
     "text": [
      "2025-07-15 14:40:15,072 - pyeuropepmc.base - INFO - Availability for PMC4123456: {'pdf': False, 'xml': False, 'html': True}\n",
      "2025-07-15 14:40:15,073 - pyeuropepmc.base - INFO - Checking fulltext availability for PMC ID: invalid\n",
      "2025-07-15 14:40:15,073 - pyeuropepmc.base - ERROR - Invalid PMC ID format: invalid\n",
      "2025-07-15 14:40:15,073 - pyeuropepmc.base - INFO - Checking fulltext availability for PMC ID: invalid\n",
      "2025-07-15 14:40:15,073 - pyeuropepmc.base - ERROR - Invalid PMC ID format: invalid\n"
     ]
    },
    {
     "name": "stdout",
     "output_type": "stream",
     "text": [
      "  PDF: ✗ Not available\n",
      "  XML: ✗ Not available\n",
      "  HTML: ✓ Available (requires MED ID to check)\n",
      "\n",
      "Checking availability for PMCinvalid:\n",
      "  Error: [FULL002] Invalid PMC ID format. Must be numeric.\n"
     ]
    }
   ],
   "source": [
    "print(\"=== Checking Full Text Availability ===\")\n",
    "\n",
    "pmcids = [\"3312970\", \"4123456\", \"invalid\"]  # Mix of valid and invalid IDs\n",
    "\n",
    "with FullTextClient() as client:\n",
    "    for pmcid in pmcids:\n",
    "        try:\n",
    "            print(f\"\\nChecking availability for PMC{pmcid}:\")\n",
    "            availability = client.check_fulltext_availability(pmcid)\n",
    "\n",
    "            for format_type, available in availability.items():\n",
    "                status = \"✓ Available\" if available else \"✗ Not available\"\n",
    "                if format_type == \"html\":\n",
    "                    status += \" (requires MED ID to check)\"\n",
    "                print(f\"  {format_type.upper()}: {status}\")\n",
    "\n",
    "        except FullTextError as e:\n",
    "            print(f\"  Error: {e}\")"
   ]
  },
  {
   "cell_type": "markdown",
   "id": "f891baf0",
   "metadata": {},
   "source": [
    "## Example 2: Download PDF Files\n",
    "\n",
    "Let's download PDF files for available articles.\n",
    "\n",
    "**Note**: PDF download tries multiple endpoints in order:\n",
    "1. Render endpoint (?pdf=render)\n",
    "2. Backend render service (ptpmcrender.fcgi)\n",
    "3. ZIP archive from OA collection\n",
    "\n",
    "**Validation**: Each downloaded PDF is validated to ensure:\n",
    "- Valid PDF header (`%PDF`)\n",
    "- Minimum file size (>1KB)\n",
    "- Only valid PDFs are saved to disk"
   ]
  },
  {
   "cell_type": "code",
   "execution_count": 3,
   "id": "7f005d05",
   "metadata": {},
   "outputs": [
    {
     "name": "stderr",
     "output_type": "stream",
     "text": [
      "2025-07-15 14:40:15,082 - pyeuropepmc.base - INFO - Starting PDF download for PMC3312970\n"
     ]
    },
    {
     "name": "stdout",
     "output_type": "stream",
     "text": [
      "=== Downloading PDF Files ===\n",
      "\n",
      "Downloading PDF for PMC3312970...\n",
      "  Trying render endpoint → backend service → ZIP archive...\n"
     ]
    },
    {
     "name": "stderr",
     "output_type": "stream",
     "text": [
      "2025-07-15 14:40:15,512 - pyeuropepmc.base - INFO - Downloaded valid PDF via render endpoint: downloads/PMC3312970.pdf\n"
     ]
    },
    {
     "name": "stdout",
     "output_type": "stream",
     "text": [
      "  ✓ Downloaded to downloads/PMC3312970.pdf (2376.5 KB)\n"
     ]
    }
   ],
   "source": [
    "print(\"=== Downloading PDF Files ===\")\n",
    "\n",
    "pmcids = [\"3312970\"]  # Known open access article as pdf but not xml fulltext\n",
    "download_dir = Path(\"downloads\")\n",
    "download_dir.mkdir(exist_ok=True)\n",
    "\n",
    "with FullTextClient() as client:\n",
    "    for pmcid in pmcids:\n",
    "        try:\n",
    "            print(f\"\\nDownloading PDF for PMC{pmcid}...\")\n",
    "            print(\"  Trying render endpoint → backend service → ZIP archive...\")\n",
    "            output_path = download_dir / f\"PMC{pmcid}.pdf\"\n",
    "\n",
    "            result = client.download_pdf_by_pmcid(pmcid, output_path)\n",
    "\n",
    "            if result:\n",
    "                file_size = result.stat().st_size / 1024  # Size in KB\n",
    "                print(f\"  ✓ Downloaded to {result} ({file_size:.1f} KB)\")  \n",
    "\n",
    "            else:\n",
    "                print(\"  ✗ Download failed (not available via any endpoint)\")\n",
    "\n",
    "        except FullTextError as e:\n",
    "            print(f\"  ✗ Error: {e}\")"
   ]
  },
  {
   "cell_type": "markdown",
   "id": "45cd2dec",
   "metadata": {},
   "source": [
    "## Example 3: Download XML Files\n",
    "\n",
    "XML files often contain more structured information than PDFs."
   ]
  },
  {
   "cell_type": "code",
   "execution_count": 4,
   "id": "1f8562cd",
   "metadata": {},
   "outputs": [
    {
     "name": "stderr",
     "output_type": "stream",
     "text": [
      "2025-07-15 14:40:15,522 - pyeuropepmc.base - INFO - Starting XML download for PMC ID: PMC3257301\n",
      "2025-07-15 14:40:15,524 - pyeuropepmc.base - INFO - Downloading XML for PMC3257301\n",
      "2025-07-15 14:40:15,524 - pyeuropepmc.base - INFO - Downloading XML for PMC3257301\n"
     ]
    },
    {
     "name": "stdout",
     "output_type": "stream",
     "text": [
      "=== Downloading XML Files ===\n",
      "\n",
      "Downloading XML for PMCPMC3257301...\n",
      "  Trying REST API → bulk FTP archive fallback...\n"
     ]
    },
    {
     "name": "stderr",
     "output_type": "stream",
     "text": [
      "2025-07-15 14:40:15,811 - pyeuropepmc.base - INFO - GET request to https://www.ebi.ac.uk/europepmc/webservices/rest/PMC3257301/fullTextXML succeeded with status 200\n",
      "2025-07-15 14:40:16,861 - pyeuropepmc.base - INFO - Successfully downloaded XML to downloads/PMCPMC3257301.xml\n",
      "2025-07-15 14:40:16,862 - pyeuropepmc.base - INFO - Starting XML download for PMC ID: PMC4123456\n",
      "2025-07-15 14:40:16,862 - pyeuropepmc.base - INFO - Downloading XML for PMC4123456\n",
      "2025-07-15 14:40:16,861 - pyeuropepmc.base - INFO - Successfully downloaded XML to downloads/PMCPMC3257301.xml\n",
      "2025-07-15 14:40:16,862 - pyeuropepmc.base - INFO - Starting XML download for PMC ID: PMC4123456\n",
      "2025-07-15 14:40:16,862 - pyeuropepmc.base - INFO - Downloading XML for PMC4123456\n",
      "2025-07-15 14:40:16,924 - pyeuropepmc.base - ERROR - [BaseAPIClient] GET request failed\n",
      "2025-07-15 14:40:16,924 - pyeuropepmc.base - ERROR - [BaseAPIClient] GET request failed\n"
     ]
    },
    {
     "name": "stdout",
     "output_type": "stream",
     "text": [
      "  ✓ Downloaded to downloads/PMCPMC3257301.xml (120.7 KB)\n",
      "\n",
      "Downloading XML for PMCPMC4123456...\n",
      "  Trying REST API → bulk FTP archive fallback...\n"
     ]
    },
    {
     "name": "stderr",
     "output_type": "stream",
     "text": [
      "2025-07-15 14:40:17,926 - pyeuropepmc.base - WARNING - REST API failed for PMC4123456: [HTTP404] Resource not found at endpoint.\n",
      "2025-07-15 14:40:17,926 - pyeuropepmc.base - INFO - Trying bulk FTP download for PMC4123456\n",
      "2025-07-15 14:40:17,926 - pyeuropepmc.base - INFO - Trying bulk FTP download for PMC4123456\n",
      "2025-07-15 14:40:18,052 - pyeuropepmc.base - INFO - Starting XML download for PMC ID: invalid\n",
      "2025-07-15 14:40:18,053 - pyeuropepmc.base - ERROR - Invalid PMC ID format: invalid\n",
      "2025-07-15 14:40:18,052 - pyeuropepmc.base - INFO - Starting XML download for PMC ID: invalid\n",
      "2025-07-15 14:40:18,053 - pyeuropepmc.base - ERROR - Invalid PMC ID format: invalid\n"
     ]
    },
    {
     "name": "stdout",
     "output_type": "stream",
     "text": [
      "  ✗ Error: [FULL003] Content not found for PMC ID 4123456.\n",
      "\n",
      "Downloading XML for PMCinvalid...\n",
      "  Trying REST API → bulk FTP archive fallback...\n",
      "  ✗ Error: [FULL002] Invalid PMC ID format. Must be numeric.\n"
     ]
    }
   ],
   "source": [
    "print(\"=== Downloading XML Files ===\")\n",
    "\n",
    "pmcids = [\"PMC3257301\", # Known open access article as xml\n",
    "          \"PMC4123456\", # Known open access article without xml\n",
    "          \"invalid\" # Invalid ID to test error handling\n",
    "          ]\n",
    "download_dir = Path(\"downloads\")\n",
    "download_dir.mkdir(exist_ok=True)\n",
    "\n",
    "with FullTextClient() as client:\n",
    "    for pmcid in pmcids:\n",
    "        try:\n",
    "            print(f\"\\nDownloading XML for PMC{pmcid}...\")\n",
    "            print(\"  Trying REST API → bulk FTP archive fallback...\")\n",
    "            output_path = download_dir / f\"PMC{pmcid}.xml\"\n",
    "\n",
    "            result = client.download_xml_by_pmcid(pmcid, output_path)\n",
    "\n",
    "            if result:\n",
    "                file_size = result.stat().st_size / 1024  # Size in KB\n",
    "                print(f\"  ✓ Downloaded to {result} ({file_size:.1f} KB)\")\n",
    "            else:\n",
    "                print(\"  ✗ Download failed\")\n",
    "\n",
    "        except FullTextError as e:\n",
    "            print(f\"  ✗ Error: {e}\")\n",
    "            pass\n",
    "        except Exception as e:\n",
    "            print(f\"  ✗ Unexpected error: {e}\")"
   ]
  },
  {
   "cell_type": "markdown",
   "id": "f9e5810a",
   "metadata": {},
   "source": [
    "## Example 3b: Bulk XML Download Only\n",
    "\n",
    "Sometimes you might want to download XML files directly from the Europe PMC FTP OA bulk archives without trying the REST API first. This is useful when you know the REST API is temporarily unavailable or when you specifically want to use the bulk download method."
   ]
  },
  {
   "cell_type": "code",
   "execution_count": 5,
   "id": "aac7f441",
   "metadata": {},
   "outputs": [
    {
     "name": "stderr",
     "output_type": "stream",
     "text": [
      "2025-07-15 14:40:18,065 - pyeuropepmc.base - INFO - Starting bulk XML download for PMC ID: PMC3257301\n",
      "2025-07-15 14:40:18,188 - pyeuropepmc.base - INFO - Starting bulk XML download for PMC ID: PMC1000000\n",
      "2025-07-15 14:40:18,188 - pyeuropepmc.base - INFO - Starting bulk XML download for PMC ID: PMC1000000\n"
     ]
    },
    {
     "name": "stdout",
     "output_type": "stream",
     "text": [
      "=== Bulk-Only XML Download ===\n",
      "\n",
      "Downloading XML for PMCPMC3257301 (bulk FTP only)...\n",
      "  ✗ Error: [FULL003] Content not found for PMC ID 3257301.\n",
      "\n",
      "Downloading XML for PMCPMC1000000 (bulk FTP only)...\n",
      "  ✗ Error: [FULL003] Content not found for PMC ID 1000000.\n",
      "  ✗ Error: [FULL003] Content not found for PMC ID 1000000.\n"
     ]
    }
   ],
   "source": [
    "print(\"=== Bulk-Only XML Download ===\")\n",
    "\n",
    "pmcids = [\"PMC3257301\", \"PMC1000000\"]  # Test different PMC ID ranges\n",
    "download_dir = Path(\"downloads\")\n",
    "download_dir.mkdir(exist_ok=True)\n",
    "\n",
    "with FullTextClient() as client:\n",
    "    for pmcid in pmcids:\n",
    "        try:\n",
    "            print(f\"\\nDownloading XML for PMC{pmcid} (bulk FTP only)...\")\n",
    "            output_path = download_dir / f\"bulk_{pmcid}.xml\"\n",
    "\n",
    "            result = client.download_xml_by_pmcid_bulk(pmcid, output_path)\n",
    "\n",
    "            if result:\n",
    "                file_size = result.stat().st_size / 1024  # Size in KB\n",
    "                print(f\"  ✓ Downloaded from bulk archive to {result} ({file_size:.1f} KB)\")\n",
    "\n",
    "                # Show archive range info\n",
    "                pmcid_num = int(pmcid.replace(\"PMC\", \"\"))\n",
    "                archive_range = client._determine_bulk_archive_range(pmcid_num)\n",
    "                if archive_range:\n",
    "                    start_id, end_id = archive_range\n",
    "                    print(f\"  📦 From archive: PMC{start_id}_PMC{end_id}.xml.gz\")\n",
    "            else:\n",
    "                print(\"  ✗ Download failed\")\n",
    "\n",
    "        except FullTextError as e:\n",
    "            print(f\"  ✗ Error: {e}\")\n",
    "        except Exception as e:\n",
    "            print(f\"  ✗ Unexpected error: {e}\")"
   ]
  },
  {
   "cell_type": "markdown",
   "id": "9efcecff",
   "metadata": {},
   "source": [
    "## Example 4: Get Content as Strings\n",
    "\n",
    "Sometimes we want to work with the content directly in memory rather than downloading files."
   ]
  },
  {
   "cell_type": "code",
   "execution_count": 6,
   "id": "6fa37548",
   "metadata": {},
   "outputs": [
    {
     "name": "stderr",
     "output_type": "stream",
     "text": [
      "2025-07-15 14:40:18,318 - pyeuropepmc.base - INFO - Retrieving fulltext content for PMC ID: PMC3257301, format: xml\n",
      "2025-07-15 14:40:18,319 - pyeuropepmc.base - INFO - Retrieving XML content for PMC3257301\n",
      "2025-07-15 14:40:18,319 - pyeuropepmc.base - INFO - Retrieving XML content for PMC3257301\n"
     ]
    },
    {
     "name": "stdout",
     "output_type": "stream",
     "text": [
      "=== Getting Content as Strings ===\n",
      "\n",
      "Retrieving XML content for PMCPMC3257301...\n"
     ]
    },
    {
     "name": "stderr",
     "output_type": "stream",
     "text": [
      "2025-07-15 14:40:18,542 - pyeuropepmc.base - INFO - GET request to https://www.ebi.ac.uk/europepmc/webservices/rest/PMC3257301/fullTextXML succeeded with status 200\n"
     ]
    },
    {
     "name": "stdout",
     "output_type": "stream",
     "text": [
      "  ✓ XML content (123550 characters):\n",
      "  <!DOCTYPE article PUBLIC \"-//NLM//DTD JATS (Z39.96) Journal Archiving and Interchange DTD v1.1 20151215//EN\" \"JATS-archivearticle1.dtd\"> \n",
      "<article xmlns:xlink=\"http://www.w3.org/1999/xlink\" xmlns:mml=...\n"
     ]
    }
   ],
   "source": [
    "print(\"=== Getting Content as Strings ===\")\n",
    "\n",
    "pmcid = \"PMC3257301\"\n",
    "\n",
    "with FullTextClient() as client:\n",
    "    # Get XML content\n",
    "    try:\n",
    "        print(f\"\\nRetrieving XML content for PMC{pmcid}...\")\n",
    "        xml_content = client.get_fulltext_content(pmcid, \"xml\")\n",
    "\n",
    "        # Show first 200 characters\n",
    "        preview = xml_content[:200] + \"...\" if len(xml_content) > 200 else xml_content\n",
    "        print(f\"  ✓ XML content ({len(xml_content)} characters):\")\n",
    "        print(f\"  {preview}\")\n",
    "\n",
    "    except Exception as e:\n",
    "        print(f\"  ✗ Error getting XML: {e}\")\n",
    "\n"
   ]
  },
  {
   "cell_type": "markdown",
   "id": "9fbb10c2",
   "metadata": {},
   "source": [
    "## Example 5: Batch Download\n",
    "\n",
    "For downloading multiple articles efficiently, we can use the batch download feature."
   ]
  },
  {
   "cell_type": "code",
   "execution_count": 7,
   "id": "98c624b8",
   "metadata": {},
   "outputs": [
    {
     "name": "stderr",
     "output_type": "stream",
     "text": [
      "2025-07-15 14:40:19,603 - pyeuropepmc.base - INFO - Starting batch download for PMC IDs: ['3312970', '4123456', '5678901'], format: pdf\n",
      "2025-07-15 14:40:19,604 - pyeuropepmc.base - INFO - Starting PDF download for PMC3312970\n",
      "2025-07-15 14:40:19,604 - pyeuropepmc.base - INFO - Starting PDF download for PMC3312970\n"
     ]
    },
    {
     "name": "stdout",
     "output_type": "stream",
     "text": [
      "=== Batch Download ===\n",
      "\n",
      "Batch downloading PDFs for 3 articles...\n"
     ]
    },
    {
     "name": "stderr",
     "output_type": "stream",
     "text": [
      "2025-07-15 14:40:19,926 - pyeuropepmc.base - INFO - Downloaded valid PDF via render endpoint: downloads/batch/PMC3312970.pdf\n",
      "2025-07-15 14:40:19,927 - pyeuropepmc.base - INFO - Successfully downloaded PDF for PMC3312970\n",
      "2025-07-15 14:40:19,927 - pyeuropepmc.base - INFO - Starting PDF download for PMC4123456\n",
      "2025-07-15 14:40:19,927 - pyeuropepmc.base - INFO - Successfully downloaded PDF for PMC3312970\n",
      "2025-07-15 14:40:19,927 - pyeuropepmc.base - INFO - Starting PDF download for PMC4123456\n",
      "2025-07-15 14:40:20,200 - pyeuropepmc.base - INFO - Downloaded valid PDF via render endpoint: downloads/batch/PMC4123456.pdf\n",
      "2025-07-15 14:40:20,200 - pyeuropepmc.base - INFO - Successfully downloaded PDF for PMC4123456\n",
      "2025-07-15 14:40:20,201 - pyeuropepmc.base - INFO - Starting PDF download for PMC5678901\n",
      "2025-07-15 14:40:20,200 - pyeuropepmc.base - INFO - Downloaded valid PDF via render endpoint: downloads/batch/PMC4123456.pdf\n",
      "2025-07-15 14:40:20,200 - pyeuropepmc.base - INFO - Successfully downloaded PDF for PMC4123456\n",
      "2025-07-15 14:40:20,201 - pyeuropepmc.base - INFO - Starting PDF download for PMC5678901\n",
      "2025-07-15 14:40:20,556 - pyeuropepmc.base - INFO - Downloaded valid PDF via render endpoint: downloads/batch/PMC5678901.pdf\n",
      "2025-07-15 14:40:20,557 - pyeuropepmc.base - INFO - Successfully downloaded PDF for PMC5678901\n",
      "2025-07-15 14:40:20,558 - pyeuropepmc.base - INFO - Batch download results: {'3312970': PosixPath('downloads/batch/PMC3312970.pdf'), '4123456': PosixPath('downloads/batch/PMC4123456.pdf'), '5678901': PosixPath('downloads/batch/PMC5678901.pdf')}\n",
      "2025-07-15 14:40:20,556 - pyeuropepmc.base - INFO - Downloaded valid PDF via render endpoint: downloads/batch/PMC5678901.pdf\n",
      "2025-07-15 14:40:20,557 - pyeuropepmc.base - INFO - Successfully downloaded PDF for PMC5678901\n",
      "2025-07-15 14:40:20,558 - pyeuropepmc.base - INFO - Batch download results: {'3312970': PosixPath('downloads/batch/PMC3312970.pdf'), '4123456': PosixPath('downloads/batch/PMC4123456.pdf'), '5678901': PosixPath('downloads/batch/PMC5678901.pdf')}\n"
     ]
    },
    {
     "name": "stdout",
     "output_type": "stream",
     "text": [
      "\n",
      "Batch download results:\n",
      "  PMC3312970: ✓ Downloaded (2376.5 KB)\n",
      "  PMC4123456: ✓ Downloaded (118.7 KB)\n",
      "  PMC5678901: ✓ Downloaded (680.8 KB)\n",
      "\n",
      "Summary: 3/3 downloads successful\n"
     ]
    }
   ],
   "source": [
    "print(\"=== Batch Download ===\")\n",
    "\n",
    "pmcids = [\"3312970\", \"4123456\", \"5678901\"]  # Mix of articles\n",
    "download_dir = Path(\"downloads/batch\")\n",
    "download_dir.mkdir(parents=True, exist_ok=True)\n",
    "\n",
    "with FullTextClient() as client:\n",
    "    print(f\"\\nBatch downloading PDFs for {len(pmcids)} articles...\")\n",
    "\n",
    "    results = client.download_fulltext_batch(\n",
    "        pmcids, format_type=\"pdf\", output_dir=download_dir, skip_errors=True\n",
    "    )\n",
    "\n",
    "    print(\"\\nBatch download results:\")\n",
    "    successful = 0\n",
    "    for pmcid, result_path in results.items():\n",
    "        if result_path:\n",
    "            file_size = result_path.stat().st_size / 1024\n",
    "            print(f\"  PMC{pmcid}: ✓ Downloaded ({file_size:.1f} KB)\")\n",
    "            successful += 1\n",
    "        else:\n",
    "            print(f\"  PMC{pmcid}: ✗ Failed\")\n",
    "\n",
    "    print(f\"\\nSummary: {successful}/{len(pmcids)} downloads successful\")"
   ]
  },
  {
   "cell_type": "markdown",
   "id": "14b44f27",
   "metadata": {},
   "source": [
    "## Example 6: Error Handling\n",
    "\n",
    "Let's demonstrate how different error conditions are handled."
   ]
  },
  {
   "cell_type": "code",
   "execution_count": 8,
   "id": "06e2e152",
   "metadata": {},
   "outputs": [
    {
     "name": "stderr",
     "output_type": "stream",
     "text": [
      "2025-07-15 14:40:20,567 - pyeuropepmc.base - ERROR - Invalid PMC ID format: invalid_id\n",
      "2025-07-15 14:40:20,569 - pyeuropepmc.base - INFO - Starting PDF download for PMC99999999\n",
      "2025-07-15 14:40:20,569 - pyeuropepmc.base - INFO - Starting PDF download for PMC99999999\n",
      "2025-07-15 14:40:20,738 - pyeuropepmc.base - WARNING - Downloaded invalid PDF from render endpoint, removed file\n",
      "2025-07-15 14:40:20,738 - pyeuropepmc.base - WARNING - Downloaded invalid PDF from render endpoint, removed file\n"
     ]
    },
    {
     "name": "stdout",
     "output_type": "stream",
     "text": [
      "=== Error Handling Examples ===\n",
      "\n",
      "Trying invalid PMC ID format...\n",
      "  ✓ Caught expected error: [FULL002] Invalid PMC ID format. Must be numeric.\n",
      "\n",
      "Trying non-existent PMC ID...\n"
     ]
    },
    {
     "name": "stderr",
     "output_type": "stream",
     "text": [
      "2025-07-15 14:40:20,843 - pyeuropepmc.base - WARNING - Downloaded invalid PDF from backend service, removed file\n",
      "2025-07-15 14:40:20,944 - pyeuropepmc.base - ERROR - PDF not available or invalid for PMC99999999\n",
      "2025-07-15 14:40:20,945 - pyeuropepmc.base - INFO - Retrieving fulltext content for PMC ID: 3312970, format: pdf\n",
      "2025-07-15 14:40:20,944 - pyeuropepmc.base - ERROR - PDF not available or invalid for PMC99999999\n",
      "2025-07-15 14:40:20,945 - pyeuropepmc.base - INFO - Retrieving fulltext content for PMC ID: 3312970, format: pdf\n"
     ]
    },
    {
     "name": "stdout",
     "output_type": "stream",
     "text": [
      "  ✓ Correctly returned None for non-existent ID\n",
      "\n",
      "Trying invalid format for text content...\n",
      "  ✓ Caught expected error: [FULL004] Invalid format type. Use 'pdf', 'xml', or 'html'.\n"
     ]
    }
   ],
   "source": [
    "print(\"=== Error Handling Examples ===\")\n",
    "\n",
    "with FullTextClient() as client:\n",
    "    # Invalid PMC ID format\n",
    "    try:\n",
    "        print(\"\\nTrying invalid PMC ID format...\")\n",
    "        client.download_pdf_by_pmcid(\"invalid_id\")\n",
    "    except FullTextError as e:\n",
    "        print(f\"  ✓ Caught expected error: {e}\")\n",
    "\n",
    "    # Non-existent PMC ID\n",
    "    try:\n",
    "        print(\"\\nTrying non-existent PMC ID...\")\n",
    "        result = client.download_pdf_by_pmcid(\"99999999\")\n",
    "        if result is None:\n",
    "            print(\"  ✓ Correctly returned None for non-existent ID\")\n",
    "    except FullTextError as e:\n",
    "        print(f\"  ✓ Caught expected error: {e}\")\n",
    "\n",
    "    # Invalid format for text content\n",
    "    try:\n",
    "        print(\"\\nTrying invalid format for text content...\")\n",
    "        client.get_fulltext_content(\"3312970\", \"pdf\")\n",
    "    except FullTextError as e:\n",
    "        print(f\"  ✓ Caught expected error: {e}\")"
   ]
  },
  {
   "cell_type": "markdown",
   "id": "36c1e93f",
   "metadata": {},
   "source": [
    "## Example 7: Integration with Search Client\n",
    "\n",
    "Let's combine search functionality with full text retrieval."
   ]
  },
  {
   "cell_type": "code",
   "execution_count": 9,
   "id": "15cb2d86",
   "metadata": {},
   "outputs": [
    {
     "name": "stderr",
     "output_type": "stream",
     "text": [
      "2025-07-15 14:40:20,956 - pyeuropepmc.base - INFO - Performing search with params: {'query': 'machine learning', 'resultType': 'lite', 'synonym': 'FALSE', 'pageSize': 5, 'format': 'json', 'cursorMark': '*', 'sort': ''}\n"
     ]
    },
    {
     "name": "stdout",
     "output_type": "stream",
     "text": [
      "=== Integration with Search Client ===\n",
      "\n",
      "Searching for articles about 'machine learning'...\n"
     ]
    },
    {
     "name": "stderr",
     "output_type": "stream",
     "text": [
      "2025-07-15 14:40:21,171 - pyeuropepmc.base - INFO - GET request to https://www.ebi.ac.uk/europepmc/webservices/rest/search succeeded with status 200\n"
     ]
    },
    {
     "name": "stdout",
     "output_type": "stream",
     "text": [
      "This is the search result: {'version': '6.9', 'hitCount': 476039, 'nextCursorMark': 'AoIIQZT7ACg1MzMyODc5MA==', 'nextPageUrl': 'https://www.ebi.ac.uk/europepmc/webservices/rest/search?query=machine learning&cursorMark=AoIIQZT7ACg1MzMyODc5MA==&resultType=lite&pageSize=5&format=json', 'request': {'queryString': 'machine learning', 'resultType': 'lite', 'cursorMark': '%2A', 'pageSize': 5, 'sort': '', 'synonym': False}, 'resultList': {'result': [{'id': 'PPR1048238', 'source': 'PPR', 'doi': '10.20944/preprints202507.0912.v1', 'title': 'Unsupervised Machine Learning in Astronomy', 'authorString': 'Kuo C, Xu D, Friesen R.', 'pubYear': '2025', 'pubType': 'preprint', 'bookOrReportDetails': {'publisher': 'Preprints.org', 'yearOfPublication': 2025}, 'isOpenAccess': 'N', 'inEPMC': 'N', 'inPMC': 'N', 'hasPDF': 'N', 'hasBook': 'N', 'hasSuppl': 'N', 'citedByCount': 0, 'hasReferences': 'N', 'hasTextMinedTerms': 'N', 'hasDbCrossReferences': 'N', 'hasLabsLinks': 'N', 'versionNumber': 1, 'hasTMAccessionNumbers': 'N', 'firstIndexDate': '2025-07-13', 'firstPublicationDate': '2025-07-10'}, {'id': '40412155', 'source': 'MED', 'pmid': '40412155', 'doi': '10.1016/j.cis.2025.103546', 'title': 'Machine Learning in nanoarchitectonics.', 'authorString': 'Parakhonskiy BV, Song J, Skirtach AG.', 'journalTitle': 'Adv Colloid Interface Sci', 'journalVolume': '343', 'pubYear': '2025', 'journalIssn': '0001-8686; 1873-3727; ', 'pageInfo': '103546', 'pubType': 'review; journal article', 'isOpenAccess': 'N', 'inEPMC': 'N', 'inPMC': 'N', 'hasPDF': 'N', 'hasBook': 'N', 'hasSuppl': 'N', 'citedByCount': 0, 'hasReferences': 'N', 'hasTextMinedTerms': 'Y', 'hasDbCrossReferences': 'N', 'hasLabsLinks': 'Y', 'hasTMAccessionNumbers': 'N', 'firstIndexDate': '2025-05-26', 'firstPublicationDate': '2025-05-13'}, {'id': '40633127', 'source': 'MED', 'pmid': '40633127', 'doi': '10.1016/j.sbi.2025.103115', 'title': 'Generation of protein dynamics by machine learning.', 'authorString': 'Janson G, Feig M.', 'journalTitle': 'Curr Opin Struct Biol', 'journalVolume': '93', 'pubYear': '2025', 'journalIssn': '0959-440x; 1879-033x; ', 'pageInfo': '103115', 'pubType': 'review; journal article', 'isOpenAccess': 'N', 'inEPMC': 'N', 'inPMC': 'N', 'hasPDF': 'N', 'hasBook': 'N', 'hasSuppl': 'N', 'citedByCount': 0, 'hasReferences': 'N', 'hasTextMinedTerms': 'Y', 'hasDbCrossReferences': 'N', 'hasLabsLinks': 'N', 'hasTMAccessionNumbers': 'N', 'firstIndexDate': '2025-07-10', 'firstPublicationDate': '2025-07-08'}, {'id': 'PPR1029580', 'source': 'PPR', 'doi': '10.21203/rs.3.rs-6723937/v1', 'title': 'Scientific Fuzzy Machine Learning', 'authorString': 'Jannatabadi EA, Goharimanesh M.', 'pubYear': '2025', 'pubType': 'preprint', 'bookOrReportDetails': {'publisher': 'Research Square', 'yearOfPublication': 2025}, 'isOpenAccess': 'N', 'inEPMC': 'N', 'inPMC': 'N', 'hasPDF': 'N', 'hasBook': 'N', 'hasSuppl': 'N', 'citedByCount': 0, 'hasReferences': 'N', 'hasTextMinedTerms': 'Y', 'hasDbCrossReferences': 'N', 'hasLabsLinks': 'N', 'versionNumber': 1, 'hasTMAccessionNumbers': 'N', 'firstIndexDate': '2025-06-03', 'firstPublicationDate': '2025-06-02'}, {'id': '40623172', 'source': 'MED', 'pmid': '40623172', 'doi': '10.1063/5.0259222', 'title': 'Rainfall forecast in Brazil using machine learning.', 'authorString': 'da Silva ST, Milani LC, Gabrick EC, Iarosz KC, Viana RL, Caldas IL, Batista AM.', 'journalTitle': 'Chaos', 'issue': '7', 'journalVolume': '35', 'pubYear': '2025', 'journalIssn': '1054-1500; 1089-7682; ', 'pageInfo': '073116', 'pubType': 'journal article', 'isOpenAccess': 'N', 'inEPMC': 'N', 'inPMC': 'N', 'hasPDF': 'N', 'hasBook': 'N', 'hasSuppl': 'N', 'citedByCount': 0, 'hasReferences': 'N', 'hasTextMinedTerms': 'Y', 'hasDbCrossReferences': 'N', 'hasLabsLinks': 'Y', 'hasTMAccessionNumbers': 'N', 'firstIndexDate': '2025-07-09', 'firstPublicationDate': '2025-07-01'}]}}\n",
      "  Found 5 articles in search results\n",
      "  No PMC IDs found in search results\n"
     ]
    }
   ],
   "source": [
    "print(\"=== Integration with Search Client ===\")\n",
    "\n",
    "try:\n",
    "    from pyeuropepmc import SearchClient\n",
    "\n",
    "    # Search for articles first\n",
    "    with SearchClient() as search_client:\n",
    "        print(\"\\nSearching for articles about 'machine learning'...\")\n",
    "        results = search_client.search(\"machine learning\", pageSize=5)\n",
    "        print(f\"This is the search result: {results}\")\n",
    "\n",
    "\n",
    "        if results and \"resultList\" in results and \"result\" in results[\"resultList\"]:\n",
    "            articles = results[\"resultList\"][\"result\"]\n",
    "            print(f\"  Found {len(articles)} articles in search results\")\n",
    "\n",
    "            # Extract PMC IDs from search results\n",
    "            pmcids = []\n",
    "            for article in articles:\n",
    "                if article.get(\"isOpenAccess\") == \"Y\" and \"pmcid\" in article:\n",
    "                    pmcid = article[\"pmcid\"].replace(\"PMC\", \"\")\n",
    "                    pmcids.append(pmcid)\n",
    "                    print(\n",
    "                        f\"  Found open access article: PMC{pmcid} - {article.get('title', 'No title')[:60]}...\"\n",
    "                    )\n",
    "\n",
    "            # Now check full text availability\n",
    "            if pmcids:\n",
    "                print(f\"\\nChecking full text availability for {len(pmcids)} articles...\")\n",
    "\n",
    "                with FullTextClient() as fulltext_client:\n",
    "                    for pmcid in pmcids[:3]:  # Check first 3 articles\n",
    "                        try:\n",
    "                            availability = fulltext_client.check_fulltext_availability(pmcid)\n",
    "                            available_formats = [\n",
    "                                fmt for fmt, avail in availability.items() if avail\n",
    "                            ]\n",
    "\n",
    "                            if available_formats:\n",
    "                                print(\n",
    "                                    f\"  PMC{pmcid}: {', '.join(available_formats)} available\"\n",
    "                                )\n",
    "                            else:\n",
    "                                print(f\"  PMC{pmcid}: No full text available\")\n",
    "\n",
    "                        except FullTextError as e:\n",
    "                            print(f\"  PMC{pmcid}: Error - {e}\")\n",
    "            else:\n",
    "                print(\"  No PMC IDs found in search results\")\n",
    "        else:\n",
    "            print(\"  No search results found\")\n",
    "\n",
    "except ImportError:\n",
    "    print(\"  SearchClient not available - install pyeuropepmc to use this example\")\n",
    "except Exception as e:\n",
    "    print(f\"  Error in integration example: {e}\")"
   ]
  },
  {
   "cell_type": "markdown",
   "id": "5b3cb39d",
   "metadata": {},
   "source": [
    "## Summary\n",
    "\n",
    "This notebook demonstrated the key features of the PyEuropePMC FullTextClient:\n",
    "\n",
    "1. **Availability checking** - Determine what formats are available before downloading\n",
    "2. **PDF downloads** - Download PDF files with automatic fallback mechanisms and validation\n",
    "3. **XML downloads** - Download structured XML content with REST API and bulk FTP fallback\n",
    "4. **Bulk XML downloads** - Direct download from Europe PMC FTP OA archives (.xml.gz)\n",
    "5. **Content retrieval** - Get content as strings for in-memory processing\n",
    "6. **Batch operations** - Efficiently download multiple articles\n",
    "7. **Error handling** - Robust handling of various error conditions\n",
    "8. **Search integration** - Combine with SearchClient for complete workflows\n",
    "\n",
    "### Key Features\n",
    "\n",
    "**PDF Downloads:**\n",
    "- Uses multiple endpoints with automatic fallback (render → backend → ZIP)\n",
    "- Validates PDF content (header, size) before saving\n",
    "- Only saves valid PDFs to disk\n",
    "\n",
    "**XML Downloads:**\n",
    "- Primary: REST API endpoint (`/PMC{id}/fullTextXML`)\n",
    "- Fallback: Bulk FTP archives (`https://europepmc.org/ftp/oa/PMC{start}_{end}.xml.gz`)\n",
    "- Automatic unpacking of gzipped archives\n",
    "- Intelligent archive range determination based on PMC ID\n",
    "\n",
    "**Bulk Download Support:**\n",
    "- Europe PMC FTP OA archives organized by PMC ID ranges\n",
    "- Automatic determination of correct archive for any PMC ID\n",
    "- Efficient handling of compressed (.xml.gz) archives\n",
    "- Dedicated bulk-only download method available\n",
    "\n",
    "### Notes\n",
    "\n",
    "- Downloaded files are saved in the `downloads/` directory\n",
    "- The client automatically handles rate limiting to be respectful to the API\n",
    "- XML downloads use REST API first, then fall back to bulk FTP archives\n",
    "- PDF downloads use multiple endpoints with automatic fallback and validation\n",
    "- Not all articles have full text available - this depends on publisher policies\n",
    "- Check the logs for detailed information about API calls and any issues"
   ]
  }
 ],
 "metadata": {
  "kernelspec": {
   "display_name": "pyeuropepmc-py3.10",
   "language": "python",
   "name": "python3"
  },
  "language_info": {
   "codemirror_mode": {
    "name": "ipython",
    "version": 3
   },
   "file_extension": ".py",
   "mimetype": "text/x-python",
   "name": "python",
   "nbconvert_exporter": "python",
   "pygments_lexer": "ipython3",
   "version": "3.10.13"
  }
 },
 "nbformat": 4,
 "nbformat_minor": 5
}
