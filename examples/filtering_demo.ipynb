{
  "cells": [
    {
      "cell_type": "markdown",
      "id": "4f90207d",
      "metadata": {},
      "source": [
        "# Europe PMC Advanced Filtering Example\n",
        "\n",
        "This notebook demonstrates how to use `filter_pmc_papers` to find high-quality scientific papers from Europe PMC using advanced filtering criteria such as citations, MeSH terms, keywords, and abstract content."
      ]
    },
    {
      "cell_type": "code",
      "execution_count": null,
      "id": "d0d05590",
      "metadata": {},
      "source": [
        "from pyeuropepmc import SearchClient, filter_pmc_papers, filter_pmc_papers_or"
      ]
    },
    {
      "cell_type": "markdown",
      "id": "06df14d5",
      "metadata": {},
      "source": [
        "## 1. Perform a Broad Search\n",
        "\n",
        "We start by searching for papers on **cancer immunotherapy**. We use `resultType=\"core\"` to retrieve full metadata, including MeSH terms."
      ]
    },
    {
      "cell_type": "code",
      "execution_count": null,
      "id": "f89ea9ed",
      "metadata": {},
      "source": [
        "client = SearchClient()\n",
        "query = \"cancer immunotherapy\"\n",
        "response = client.search(query, pageSize=500, resultType=\"core\", sort=\"cited DESC\")\n",
        "papers = response.get(\"resultList\", {}).get(\"result\", []) if isinstance(response, dict) else []\n",
        "print(f'Total papers found: {len(papers)}')"
      ]
    },
    {
      "cell_type": "code",
      "execution_count": null,
      "id": "a59f77e2",
      "metadata": {},
      "source": [
        "papers"
      ]
    },
    {
      "cell_type": "markdown",
      "id": "e917b913",
      "metadata": {},
      "source": [
        "## 2. Filter for High-Quality Review Papers\n",
        "\n",
        "- At least 10 citations\n",
        "- Published in 2020 or later\n",
        "- Type: Review or Systematic Review\n",
        "- Open Access"
      ]
    },
    {
      "cell_type": "code",
      "execution_count": null,
      "id": "1f03a9cb",
      "metadata": {},
      "source": [
        "filtered_reviews = filter_pmc_papers(\n",
        "    papers,\n",
        "    min_citations=10,\n",
        "    min_pub_year=2020,\n",
        "    allowed_types=(\"Review\", \"Systematic Review\"),\n",
        "    open_access=\"Y\",\n",
        ")\n",
        "print(f'High-quality reviews found: {len(filtered_reviews)}')\n",
        "if filtered_reviews:\n",
        "    print('First result:')\n",
        "    print(filtered_reviews[0])"
      ]
    },
    {
      "cell_type": "markdown",
      "id": "390e9833",
      "metadata": {},
      "source": [
        "### Example Results\n",
        "\n",
        "Below are the top 3 high-quality review papers found:"
      ]
    },
    {
      "cell_type": "code",
      "execution_count": null,
      "id": "c01f097f",
      "metadata": {},
      "source": [
        "for i, paper in enumerate(filtered_reviews[:3], 1):\n",
        "    print(f\"{i}. {paper['title']}\")\n",
        "    print(f\"   Year: {paper['pubYear']}, Citations: {paper['citedByCount']}\")\n",
        "    print(f\"   Authors: {', '.join(paper['authors'][:3])}\")\n",
        "    if paper['keywords']:\n",
        "        print(f\"   Keywords: {', '.join(paper['keywords'][:5])}\")\n",
        "    print()"
      ]
    },
    {
      "cell_type": "markdown",
      "id": "d32cefa7",
      "metadata": {},
      "source": [
        "## 3. Filter by MeSH Terms (Partial Matching)\n",
        "\n",
        "Find papers with MeSH terms containing both 'neoplasm' and 'immuno' (partial, case-insensitive match)."
      ]
    },
    {
      "cell_type": "code",
      "execution_count": null,
      "id": "0b9a01bd",
      "metadata": {},
      "source": [
        "filtered_mesh = filter_pmc_papers(\n",
        "    papers,\n",
        "    min_citations=5,\n",
        "    required_mesh={\"neoplasm\", \"immuno\"},\n",
        ")\n",
        "print(f\"Papers with required MeSH terms: {len(filtered_mesh)}\")\n",
        "if filtered_mesh:\n",
        "    print('First result:')\n",
        "    print(filtered_mesh[0])"
      ]
    },
    {
      "cell_type": "code",
      "execution_count": null,
      "id": "a1c6b3c5",
      "metadata": {},
      "source": [
        "filtered_mesh = filter_pmc_papers_or(\n",
        "    papers,\n",
        "    min_citations=5,\n",
        "    required_mesh={\"neoplasm\", \"immuno\"},\n",
        ")\n",
        "print(f\"Papers with required MeSH terms: {len(filtered_mesh)}\")\n",
        "if filtered_mesh:\n",
        "    print('First result:')\n",
        "    print(filtered_mesh[0])"
      ]
    },
    {
      "cell_type": "markdown",
      "id": "68e7e188",
      "metadata": {},
      "source": [
        "## 4. Filter by Keywords (Partial Matching)\n",
        "\n",
        "Find papers with keywords containing both 'checkpoint' and 'inhibitor'."
      ]
    },
    {
      "cell_type": "code",
      "execution_count": null,
      "id": "e4188d98",
      "metadata": {},
      "source": [
        "filtered_keywords = filter_pmc_papers(\n",
        "    papers,\n",
        "    min_citations=5,\n",
        "    required_keywords={\"cancer\"},\n",
        ")\n",
        "print(f\"Papers with required keywords: {len(filtered_keywords)}\")\n",
        "if filtered_keywords:\n",
        "    print('First result:')\n",
        "    print(filtered_keywords[0])"
      ]
    },
    {
      "cell_type": "markdown",
      "id": "2e0f4fcf",
      "metadata": {},
      "source": [
        "## 5. Filter by Abstract Content\n",
        "\n",
        "Find papers whose abstract contains all of: 'clinical trial', 'efficacy', and 'safety'."
      ]
    },
    {
      "cell_type": "code",
      "execution_count": null,
      "id": "eb770787",
      "metadata": {},
      "source": [
        "papers[0].get(\"abstractText\")"
      ]
    },
    {
      "cell_type": "code",
      "execution_count": null,
      "id": "952da48c",
      "metadata": {},
      "source": [
        "filtered_abstract = filter_pmc_papers(\n",
        "    papers,\n",
        "    min_citations=0,\n",
        "    required_abstract_terms={\"immunity\", \"tumour\"},\n",
        ")\n",
        "print(f\"Papers with required abstract terms: {len(filtered_abstract)}\")\n",
        "if filtered_abstract:\n",
        "    print('First result:')\n",
        "    print(filtered_abstract[0])"
      ]
    },
    {
      "cell_type": "code",
      "execution_count": null,
      "id": "5351ddff",
      "metadata": {},
      "source": [
        "filtered_abstract = filter_pmc_papers_or(\n",
        "    papers,\n",
        "    min_citations=0,\n",
        "    required_abstract_terms={\"immunity\", \"tumour\"},\n",
        ")\n",
        "print(f\"Papers with required abstract terms: {len(filtered_abstract)}\")\n",
        "if filtered_abstract:\n",
        "    print('First result:')\n",
        "    print(filtered_abstract[0])"
      ]
    },
    {
      "cell_type": "markdown",
      "id": "32866a00",
      "metadata": {},
      "source": [
        "## 6. Combine Multiple Filters for Precision\n",
        "\n",
        "- At least 20 citations\n",
        "- Published in 2021 or later\n",
        "- Review or Systematic Review\n",
        "- Open Access\n",
        "- Keyword contains 'immuno'\n",
        "- Abstract contains 'therapy'"
      ]
    },
    {
      "cell_type": "code",
      "execution_count": null,
      "id": "a5bedd7c",
      "metadata": {},
      "source": [
        "filtered_combined = filter_pmc_papers(\n",
        "    papers,\n",
        "    min_citations=20,\n",
        "    min_pub_year=2021,\n",
        "    allowed_types=(\"Review\", \"Systematic Review\"),\n",
        "    open_access=\"Y\",\n",
        "    required_keywords={\"immuno\"},\n",
        "    required_abstract_terms={\"therapy\"},\n",
        ")\n",
        "print(f\"Papers meeting all criteria: {len(filtered_combined)}\")\n",
        "if filtered_combined:\n",
        "    print('First result:')\n",
        "    print(filtered_combined[0])\n",
        "for i, paper in enumerate(filtered_combined[:2], 1):\n",
        "    print(f\"{i}. {paper['title']}\")\n",
        "    print(f\"   Year: {paper['pubYear']}, Citations: {paper['citedByCount']}\")\n",
        "    print(f\"   Type: {paper['pubType']}\")\n",
        "    print(f\"   Open Access: {paper['isOpenAccess']}\")\n",
        "    print(f\"   PMID: {paper.get('pmid', 'N/A')}, DOI: {paper.get('doi', 'N/A')}\")\n",
        "    print()"
      ]
    },
    {
      "cell_type": "markdown",
      "id": "0cc34c20",
      "metadata": {},
      "source": [
        "## Summary Statistics"
      ]
    },
    {
      "cell_type": "code",
      "execution_count": null,
      "id": "eb6c2748",
      "metadata": {},
      "source": [
        "print('Summary:')\n",
        "print(f'Total papers found: {len(papers)}')\n",
        "print(f'High-quality reviews: {len(filtered_reviews)}')\n",
        "print(f'Papers with specific MeSH: {len(filtered_mesh)}')\n",
        "print(f'Papers with specific keywords: {len(filtered_keywords)}')\n",
        "print(f'Papers with abstract terms: {len(filtered_abstract)}')\n",
        "print(f'Papers meeting all criteria: {len(filtered_combined)}')"
      ]
    },
    {
      "cell_type": "markdown",
      "id": "929e73cb",
      "metadata": {},
      "source": [
        "## Filtering Tips\n",
        "\n",
        "1. Use partial matching for flexibility (e.g., 'immuno' matches 'immunotherapy').\n",
        "2. Combine filters to narrow results to high-quality papers.\n",
        "3. Adjust `min_citations` based on your field (some fields have lower citation rates).\n",
        "4. Use `resultType='core'` to get MeSH terms and full metadata.\n",
        "5. MeSH terms are more standardized than keywords for biomedical topics."
      ]
    }
  ],
  "metadata": {},
  "nbformat": 4,
  "nbformat_minor": 5
}
