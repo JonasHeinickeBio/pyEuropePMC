{
 "cells": [
  {
   "cell_type": "markdown",
   "id": "c2dd289b",
   "metadata": {},
   "source": [
    "# PyEuropePMC FTP Downloader Demo\n",
    "\n",
    "This notebook demonstrates the core functionality of the PyEuropePMC FTP downloader for downloading full-text articles from Europe PMC."
   ]
  },
  {
   "cell_type": "markdown",
   "id": "11b3d19e",
   "metadata": {},
   "source": [
    "## Quick Setup"
   ]
  },
  {
   "cell_type": "code",
   "execution_count": 9,
   "id": "1cf72b67",
   "metadata": {},
   "outputs": [
    {
     "name": "stdout",
     "output_type": "stream",
     "text": [
      "✅ Setup complete!\n"
     ]
    }
   ],
   "source": [
    "from pyeuropepmc.ftp_downloader import FTPDownloader\n",
    "from pathlib import Path\n",
    "import logging\n",
    "\n",
    "# Set up logging to see what's happening\n",
    "logging.basicConfig(level=logging.INFO)\n",
    "\n",
    "# Create downloader and output directory\n",
    "downloader = FTPDownloader()\n",
    "downloads_dir = Path(\"downloads\")\n",
    "downloads_dir.mkdir(exist_ok=True)\n",
    "\n",
    "print(\"✅ Setup complete!\")"
   ]
  },
  {
   "cell_type": "markdown",
   "id": "ca19c369",
   "metadata": {},
   "source": [
    "## Basic Usage: Download a Single Article"
   ]
  },
  {
   "cell_type": "code",
   "execution_count": 10,
   "id": "31affd69",
   "metadata": {},
   "outputs": [
    {
     "name": "stderr",
     "output_type": "stream",
     "text": [
      "INFO:pyeuropepmc.ftp_downloader:Querying 1 PMC IDs in FTP server\n",
      "INFO:pyeuropepmc.ftp_downloader:Searching in targeted directories: ['PMCxxxx1199', 'PMCxxxx1200', 'PMCxxxx199', 'PMCxxxx200', 'PMCxxxx201']\n",
      "INFO:pyeuropepmc.ftp_downloader:Searching in targeted directories: ['PMCxxxx1199', 'PMCxxxx1200', 'PMCxxxx199', 'PMCxxxx200', 'PMCxxxx201']\n"
     ]
    },
    {
     "name": "stderr",
     "output_type": "stream",
     "text": [
      "INFO:pyeuropepmc.ftp_downloader:FTP GET request to https://europepmc.org/ftp/pdf/PMCxxxx1200/ succeeded with status 200\n",
      "INFO:pyeuropepmc.ftp_downloader:Found 52 ZIP files in PMCxxxx1200\n",
      "INFO:pyeuropepmc.ftp_downloader:Found PMC1911200 in PMCxxxx1200\n",
      "INFO:pyeuropepmc.ftp_downloader:Found 52 ZIP files in PMCxxxx1200\n",
      "INFO:pyeuropepmc.ftp_downloader:Found PMC1911200 in PMCxxxx1200\n"
     ]
    },
    {
     "name": "stdout",
     "output_type": "stream",
     "text": [
      "📥 Downloading PMC1911200...\n"
     ]
    },
    {
     "name": "stderr",
     "output_type": "stream",
     "text": [
      "INFO:pyeuropepmc.ftp_downloader:FTP GET request to https://europepmc.org/ftp/pdf/PMCxxxx1199/ succeeded with status 200\n",
      "INFO:pyeuropepmc.ftp_downloader:Found 56 ZIP files in PMCxxxx1199\n",
      "INFO:pyeuropepmc.ftp_downloader:Found 56 ZIP files in PMCxxxx1199\n",
      "INFO:pyeuropepmc.ftp_downloader:FTP GET request to https://europepmc.org/ftp/pdf/PMCxxxx201/ succeeded with status 200\n",
      "INFO:pyeuropepmc.ftp_downloader:FTP GET request to https://europepmc.org/ftp/pdf/PMCxxxx201/ succeeded with status 200\n",
      "INFO:pyeuropepmc.ftp_downloader:Found 591 ZIP files in PMCxxxx201\n",
      "INFO:pyeuropepmc.ftp_downloader:Found 591 ZIP files in PMCxxxx201\n",
      "INFO:pyeuropepmc.ftp_downloader:FTP GET request to https://europepmc.org/ftp/pdf/PMCxxxx200/ succeeded with status 200\n",
      "INFO:pyeuropepmc.ftp_downloader:FTP GET request to https://europepmc.org/ftp/pdf/PMCxxxx200/ succeeded with status 200\n",
      "INFO:pyeuropepmc.ftp_downloader:Found 612 ZIP files in PMCxxxx200\n",
      "INFO:pyeuropepmc.ftp_downloader:Found 612 ZIP files in PMCxxxx200\n",
      "INFO:pyeuropepmc.ftp_downloader:FTP GET request to https://europepmc.org/ftp/pdf/PMCxxxx199/ succeeded with status 200\n",
      "INFO:pyeuropepmc.ftp_downloader:FTP GET request to https://europepmc.org/ftp/pdf/PMCxxxx199/ succeeded with status 200\n",
      "INFO:pyeuropepmc.ftp_downloader:Found 598 ZIP files in PMCxxxx199\n",
      "INFO:pyeuropepmc.ftp_downloader:Search completed: found 1/1 PMC IDs in 5 directories\n",
      "INFO:pyeuropepmc.ftp_downloader:Downloading PMC1911200.zip from https://europepmc.org/ftp/pdf/PMCxxxx1200/PMC1911200.zip\n",
      "INFO:pyeuropepmc.ftp_downloader:Found 598 ZIP files in PMCxxxx199\n",
      "INFO:pyeuropepmc.ftp_downloader:Search completed: found 1/1 PMC IDs in 5 directories\n",
      "INFO:pyeuropepmc.ftp_downloader:Downloading PMC1911200.zip from https://europepmc.org/ftp/pdf/PMCxxxx1200/PMC1911200.zip\n",
      "INFO:pyeuropepmc.ftp_downloader:FTP GET request to https://europepmc.org/ftp/pdf/PMCxxxx1200/PMC1911200.zip succeeded with status 200\n",
      "INFO:pyeuropepmc.ftp_downloader:FTP GET request to https://europepmc.org/ftp/pdf/PMCxxxx1200/PMC1911200.zip succeeded with status 200\n",
      "INFO:pyeuropepmc.ftp_downloader:Downloaded PMC1911200.zip (44069 bytes)\n",
      "INFO:pyeuropepmc.ftp_downloader:Extracted PMC1911200.pdf\n",
      "INFO:pyeuropepmc.ftp_downloader:Removed ZIP file downloads/PMC1911200.zip\n",
      "INFO:pyeuropepmc.ftp_downloader:Downloaded PMC1911200.zip (44069 bytes)\n",
      "INFO:pyeuropepmc.ftp_downloader:Extracted PMC1911200.pdf\n",
      "INFO:pyeuropepmc.ftp_downloader:Removed ZIP file downloads/PMC1911200.zip\n"
     ]
    },
    {
     "name": "stdout",
     "output_type": "stream",
     "text": [
      "✅ Success! Downloaded to: downloads/extracted/PMC1911200.pdf\n",
      "📄 File size: 54.7 KB\n"
     ]
    }
   ],
   "source": [
    "# Download a single PMC article\n",
    "pmcid = \"1911200\"  # Example PMC ID\n",
    "print(f\"📥 Downloading PMC{pmcid}...\")\n",
    "\n",
    "try:\n",
    "    results = downloader.bulk_download_and_extract([pmcid], downloads_dir)\n",
    "    \n",
    "    if results[pmcid][\"status\"] == \"success\":\n",
    "        pdf_path = results[pmcid][\"pdf_paths\"][0]\n",
    "        print(f\"✅ Success! Downloaded to: {pdf_path}\")\n",
    "        print(f\"📄 File size: {pdf_path.stat().st_size / 1024:.1f} KB\")\n",
    "    else:\n",
    "        print(f\"❌ Failed: {results[pmcid]['error']}\")\n",
    "        \n",
    "except Exception as e:\n",
    "    print(f\"❌ Error: {e}\")"
   ]
  },
  {
   "cell_type": "markdown",
   "id": "389b809e",
   "metadata": {},
   "source": [
    "## Bulk Download: Multiple Articles"
   ]
  },
  {
   "cell_type": "code",
   "execution_count": 11,
   "id": "8d5d3456",
   "metadata": {},
   "outputs": [
    {
     "name": "stderr",
     "output_type": "stream",
     "text": [
      "INFO:pyeuropepmc.ftp_downloader:Querying 3 PMC IDs in FTP server\n",
      "INFO:pyeuropepmc.ftp_downloader:Searching in targeted directories: ['PMCxxxx000', 'PMCxxxx001', 'PMCxxxx1199', 'PMCxxxx1200', 'PMCxxxx199', 'PMCxxxx200', 'PMCxxxx201', 'PMCxxxx992', 'PMCxxxx993', 'PMCxxxx994']\n",
      "INFO:pyeuropepmc.ftp_downloader:Searching in targeted directories: ['PMCxxxx000', 'PMCxxxx001', 'PMCxxxx1199', 'PMCxxxx1200', 'PMCxxxx199', 'PMCxxxx200', 'PMCxxxx201', 'PMCxxxx992', 'PMCxxxx993', 'PMCxxxx994']\n",
      "INFO:pyeuropepmc.ftp_downloader:FTP GET request to https://europepmc.org/ftp/pdf/PMCxxxx1200/ succeeded with status 200\n",
      "INFO:pyeuropepmc.ftp_downloader:Found 52 ZIP files in PMCxxxx1200\n",
      "INFO:pyeuropepmc.ftp_downloader:Found PMC1911200 in PMCxxxx1200\n",
      "INFO:pyeuropepmc.ftp_downloader:FTP GET request to https://europepmc.org/ftp/pdf/PMCxxxx1200/ succeeded with status 200\n",
      "INFO:pyeuropepmc.ftp_downloader:Found 52 ZIP files in PMCxxxx1200\n",
      "INFO:pyeuropepmc.ftp_downloader:Found PMC1911200 in PMCxxxx1200\n",
      "INFO:pyeuropepmc.ftp_downloader:FTP GET request to https://europepmc.org/ftp/pdf/PMCxxxx1199/ succeeded with status 200\n",
      "INFO:pyeuropepmc.ftp_downloader:Found 56 ZIP files in PMCxxxx1199\n",
      "INFO:pyeuropepmc.ftp_downloader:FTP GET request to https://europepmc.org/ftp/pdf/PMCxxxx1199/ succeeded with status 200\n",
      "INFO:pyeuropepmc.ftp_downloader:Found 56 ZIP files in PMCxxxx1199\n",
      "INFO:pyeuropepmc.ftp_downloader:FTP GET request to https://europepmc.org/ftp/pdf/PMCxxxx201/ succeeded with status 200\n",
      "INFO:pyeuropepmc.ftp_downloader:FTP GET request to https://europepmc.org/ftp/pdf/PMCxxxx201/ succeeded with status 200\n"
     ]
    },
    {
     "name": "stdout",
     "output_type": "stream",
     "text": [
      "📦 Downloading 3 articles...\n"
     ]
    },
    {
     "name": "stderr",
     "output_type": "stream",
     "text": [
      "INFO:pyeuropepmc.ftp_downloader:Found 591 ZIP files in PMCxxxx201\n",
      "INFO:pyeuropepmc.ftp_downloader:FTP GET request to https://europepmc.org/ftp/pdf/PMCxxxx992/ succeeded with status 200\n",
      "INFO:pyeuropepmc.ftp_downloader:FTP GET request to https://europepmc.org/ftp/pdf/PMCxxxx992/ succeeded with status 200\n",
      "INFO:pyeuropepmc.ftp_downloader:Found 532 ZIP files in PMCxxxx992\n",
      "INFO:pyeuropepmc.ftp_downloader:Found 532 ZIP files in PMCxxxx992\n",
      "INFO:pyeuropepmc.ftp_downloader:FTP GET request to https://europepmc.org/ftp/pdf/PMCxxxx200/ succeeded with status 200\n",
      "INFO:pyeuropepmc.ftp_downloader:FTP GET request to https://europepmc.org/ftp/pdf/PMCxxxx200/ succeeded with status 200\n",
      "INFO:pyeuropepmc.ftp_downloader:Found 612 ZIP files in PMCxxxx200\n",
      "INFO:pyeuropepmc.ftp_downloader:Found 612 ZIP files in PMCxxxx200\n",
      "INFO:pyeuropepmc.ftp_downloader:FTP GET request to https://europepmc.org/ftp/pdf/PMCxxxx001/ succeeded with status 200\n",
      "INFO:pyeuropepmc.ftp_downloader:FTP GET request to https://europepmc.org/ftp/pdf/PMCxxxx001/ succeeded with status 200\n",
      "INFO:pyeuropepmc.ftp_downloader:Found 577 ZIP files in PMCxxxx001\n",
      "INFO:pyeuropepmc.ftp_downloader:Found 577 ZIP files in PMCxxxx001\n",
      "INFO:pyeuropepmc.ftp_downloader:FTP GET request to https://europepmc.org/ftp/pdf/PMCxxxx199/ succeeded with status 200\n",
      "INFO:pyeuropepmc.ftp_downloader:FTP GET request to https://europepmc.org/ftp/pdf/PMCxxxx199/ succeeded with status 200\n",
      "INFO:pyeuropepmc.ftp_downloader:Found 598 ZIP files in PMCxxxx199\n",
      "INFO:pyeuropepmc.ftp_downloader:Found 598 ZIP files in PMCxxxx199\n",
      "INFO:pyeuropepmc.ftp_downloader:FTP GET request to https://europepmc.org/ftp/pdf/PMCxxxx993/ succeeded with status 200\n",
      "INFO:pyeuropepmc.ftp_downloader:FTP GET request to https://europepmc.org/ftp/pdf/PMCxxxx993/ succeeded with status 200\n",
      "INFO:pyeuropepmc.ftp_downloader:Found 532 ZIP files in PMCxxxx993\n",
      "INFO:pyeuropepmc.ftp_downloader:Found PMC1976993 in PMCxxxx993\n",
      "INFO:pyeuropepmc.ftp_downloader:Found 532 ZIP files in PMCxxxx993\n",
      "INFO:pyeuropepmc.ftp_downloader:Found PMC1976993 in PMCxxxx993\n",
      "INFO:pyeuropepmc.ftp_downloader:FTP GET request to https://europepmc.org/ftp/pdf/PMCxxxx000/ succeeded with status 200\n",
      "INFO:pyeuropepmc.ftp_downloader:FTP GET request to https://europepmc.org/ftp/pdf/PMCxxxx000/ succeeded with status 200\n",
      "INFO:pyeuropepmc.ftp_downloader:Found 457 ZIP files in PMCxxxx000\n",
      "INFO:pyeuropepmc.ftp_downloader:Found PMC1034000 in PMCxxxx000\n",
      "INFO:pyeuropepmc.ftp_downloader:Found 457 ZIP files in PMCxxxx000\n",
      "INFO:pyeuropepmc.ftp_downloader:Found PMC1034000 in PMCxxxx000\n",
      "INFO:pyeuropepmc.ftp_downloader:FTP GET request to https://europepmc.org/ftp/pdf/PMCxxxx994/ succeeded with status 200\n",
      "INFO:pyeuropepmc.ftp_downloader:FTP GET request to https://europepmc.org/ftp/pdf/PMCxxxx994/ succeeded with status 200\n",
      "INFO:pyeuropepmc.ftp_downloader:Found 509 ZIP files in PMCxxxx994\n",
      "INFO:pyeuropepmc.ftp_downloader:Search completed: found 3/3 PMC IDs in 10 directories\n",
      "INFO:pyeuropepmc.ftp_downloader:Downloading PMC1911200.zip from https://europepmc.org/ftp/pdf/PMCxxxx1200/PMC1911200.zip\n",
      "INFO:pyeuropepmc.ftp_downloader:Found 509 ZIP files in PMCxxxx994\n",
      "INFO:pyeuropepmc.ftp_downloader:Search completed: found 3/3 PMC IDs in 10 directories\n",
      "INFO:pyeuropepmc.ftp_downloader:Downloading PMC1911200.zip from https://europepmc.org/ftp/pdf/PMCxxxx1200/PMC1911200.zip\n",
      "INFO:pyeuropepmc.ftp_downloader:FTP GET request to https://europepmc.org/ftp/pdf/PMCxxxx1200/PMC1911200.zip succeeded with status 200\n",
      "INFO:pyeuropepmc.ftp_downloader:Downloaded PMC1911200.zip (44069 bytes)\n",
      "INFO:pyeuropepmc.ftp_downloader:Extracted PMC1911200.pdf\n",
      "INFO:pyeuropepmc.ftp_downloader:Removed ZIP file downloads/PMC1911200.zip\n",
      "INFO:pyeuropepmc.ftp_downloader:FTP GET request to https://europepmc.org/ftp/pdf/PMCxxxx1200/PMC1911200.zip succeeded with status 200\n",
      "INFO:pyeuropepmc.ftp_downloader:Downloaded PMC1911200.zip (44069 bytes)\n",
      "INFO:pyeuropepmc.ftp_downloader:Extracted PMC1911200.pdf\n",
      "INFO:pyeuropepmc.ftp_downloader:Removed ZIP file downloads/PMC1911200.zip\n",
      "INFO:pyeuropepmc.ftp_downloader:Downloading PMC1976993.zip from https://europepmc.org/ftp/pdf/PMCxxxx993/PMC1976993.zip\n",
      "INFO:pyeuropepmc.ftp_downloader:Downloading PMC1976993.zip from https://europepmc.org/ftp/pdf/PMCxxxx993/PMC1976993.zip\n",
      "INFO:pyeuropepmc.ftp_downloader:FTP GET request to https://europepmc.org/ftp/pdf/PMCxxxx993/PMC1976993.zip succeeded with status 200\n",
      "INFO:pyeuropepmc.ftp_downloader:FTP GET request to https://europepmc.org/ftp/pdf/PMCxxxx993/PMC1976993.zip succeeded with status 200\n",
      "INFO:pyeuropepmc.ftp_downloader:Downloaded PMC1976993.zip (113756 bytes)\n",
      "INFO:pyeuropepmc.ftp_downloader:Extracted PMC1976993.pdf\n",
      "INFO:pyeuropepmc.ftp_downloader:Removed ZIP file downloads/PMC1976993.zip\n",
      "INFO:pyeuropepmc.ftp_downloader:Downloading PMC1034000.zip from https://europepmc.org/ftp/pdf/PMCxxxx000/PMC1034000.zip\n",
      "INFO:pyeuropepmc.ftp_downloader:Downloaded PMC1976993.zip (113756 bytes)\n",
      "INFO:pyeuropepmc.ftp_downloader:Extracted PMC1976993.pdf\n",
      "INFO:pyeuropepmc.ftp_downloader:Removed ZIP file downloads/PMC1976993.zip\n",
      "INFO:pyeuropepmc.ftp_downloader:Downloading PMC1034000.zip from https://europepmc.org/ftp/pdf/PMCxxxx000/PMC1034000.zip\n",
      "INFO:pyeuropepmc.ftp_downloader:FTP GET request to https://europepmc.org/ftp/pdf/PMCxxxx000/PMC1034000.zip succeeded with status 200\n",
      "INFO:pyeuropepmc.ftp_downloader:FTP GET request to https://europepmc.org/ftp/pdf/PMCxxxx000/PMC1034000.zip succeeded with status 200\n",
      "INFO:pyeuropepmc.ftp_downloader:Downloaded PMC1034000.zip (252981 bytes)\n",
      "INFO:pyeuropepmc.ftp_downloader:Extracted PMC1034000.pdf\n",
      "INFO:pyeuropepmc.ftp_downloader:Removed ZIP file downloads/PMC1034000.zip\n",
      "INFO:pyeuropepmc.ftp_downloader:Downloaded PMC1034000.zip (252981 bytes)\n",
      "INFO:pyeuropepmc.ftp_downloader:Extracted PMC1034000.pdf\n",
      "INFO:pyeuropepmc.ftp_downloader:Removed ZIP file downloads/PMC1034000.zip\n"
     ]
    },
    {
     "name": "stdout",
     "output_type": "stream",
     "text": [
      "\n",
      "📊 Results:\n",
      "  PMC1911200: ✅ 1 PDF(s) downloaded\n",
      "  PMC1976993: ✅ 1 PDF(s) downloaded\n",
      "  PMC1034000: ✅ 1 PDF(s) downloaded\n"
     ]
    }
   ],
   "source": [
    "# Download multiple articles at once\n",
    "pmcids = [\"1911200\", \"1976993\", \"1034000\"]\n",
    "print(f\"📦 Downloading {len(pmcids)} articles...\")\n",
    "\n",
    "try:\n",
    "    results = downloader.bulk_download_and_extract(pmcids, downloads_dir)\n",
    "    \n",
    "    print(\"\\n📊 Results:\")\n",
    "    for pmcid, result in results.items():\n",
    "        status = result[\"status\"]\n",
    "        if status == \"success\":\n",
    "            pdf_count = len(result[\"pdf_paths\"])\n",
    "            print(f\"  PMC{pmcid}: ✅ {pdf_count} PDF(s) downloaded\")\n",
    "        else:\n",
    "            print(f\"  PMC{pmcid}: ❌ {result['error']}\")\n",
    "            \n",
    "except Exception as e:\n",
    "    print(f\"❌ Error: {e}\")"
   ]
  },
  {
   "cell_type": "markdown",
   "id": "818b07f7",
   "metadata": {},
   "source": [
    "## Check Available Files"
   ]
  },
  {
   "cell_type": "code",
   "execution_count": null,
   "id": "192a2690",
   "metadata": {},
   "outputs": [
    {
     "name": "stderr",
     "output_type": "stream",
     "text": [
      "INFO:pyeuropepmc.ftp_downloader:Searching in targeted directories: ['PMCxxxx1199', 'PMCxxxx1200', 'PMCxxxx199', 'PMCxxxx200', 'PMCxxxx201', 'PMCxxxx992', 'PMCxxxx993', 'PMCxxxx994', 'PMCxxxx998', 'PMCxxxx999']\n",
      "INFO:pyeuropepmc.ftp_downloader:FTP GET request to https://europepmc.org/ftp/pdf/PMCxxxx1200/ succeeded with status 200\n",
      "INFO:pyeuropepmc.ftp_downloader:FTP GET request to https://europepmc.org/ftp/pdf/PMCxxxx1200/ succeeded with status 200\n",
      "INFO:pyeuropepmc.ftp_downloader:Found 52 ZIP files in PMCxxxx1200\n",
      "INFO:pyeuropepmc.ftp_downloader:Found PMC1911200 in PMCxxxx1200\n",
      "INFO:pyeuropepmc.ftp_downloader:Found 52 ZIP files in PMCxxxx1200\n",
      "INFO:pyeuropepmc.ftp_downloader:Found PMC1911200 in PMCxxxx1200\n",
      "INFO:pyeuropepmc.ftp_downloader:FTP GET request to https://europepmc.org/ftp/pdf/PMCxxxx1199/ succeeded with status 200\n",
      "INFO:pyeuropepmc.ftp_downloader:FTP GET request to https://europepmc.org/ftp/pdf/PMCxxxx1199/ succeeded with status 200\n",
      "INFO:pyeuropepmc.ftp_downloader:Found 56 ZIP files in PMCxxxx1199\n",
      "INFO:pyeuropepmc.ftp_downloader:Found 56 ZIP files in PMCxxxx1199\n",
      "INFO:pyeuropepmc.ftp_downloader:FTP GET request to https://europepmc.org/ftp/pdf/PMCxxxx201/ succeeded with status 200\n",
      "INFO:pyeuropepmc.ftp_downloader:FTP GET request to https://europepmc.org/ftp/pdf/PMCxxxx201/ succeeded with status 200\n"
     ]
    },
    {
     "name": "stdout",
     "output_type": "stream",
     "text": [
      "🔍 Checking availability of 3 PMC IDs...\n"
     ]
    },
    {
     "name": "stderr",
     "output_type": "stream",
     "text": [
      "INFO:pyeuropepmc.ftp_downloader:Found 591 ZIP files in PMCxxxx201\n",
      "INFO:pyeuropepmc.ftp_downloader:FTP GET request to https://europepmc.org/ftp/pdf/PMCxxxx992/ succeeded with status 200\n",
      "INFO:pyeuropepmc.ftp_downloader:FTP GET request to https://europepmc.org/ftp/pdf/PMCxxxx992/ succeeded with status 200\n",
      "INFO:pyeuropepmc.ftp_downloader:Found 532 ZIP files in PMCxxxx992\n",
      "INFO:pyeuropepmc.ftp_downloader:Found 532 ZIP files in PMCxxxx992\n",
      "INFO:pyeuropepmc.ftp_downloader:FTP GET request to https://europepmc.org/ftp/pdf/PMCxxxx999/ succeeded with status 200\n",
      "INFO:pyeuropepmc.ftp_downloader:FTP GET request to https://europepmc.org/ftp/pdf/PMCxxxx999/ succeeded with status 200\n",
      "INFO:pyeuropepmc.ftp_downloader:Found 545 ZIP files in PMCxxxx999\n",
      "INFO:pyeuropepmc.ftp_downloader:Found 545 ZIP files in PMCxxxx999\n",
      "INFO:pyeuropepmc.ftp_downloader:FTP GET request to https://europepmc.org/ftp/pdf/PMCxxxx200/ succeeded with status 200\n",
      "INFO:pyeuropepmc.ftp_downloader:FTP GET request to https://europepmc.org/ftp/pdf/PMCxxxx200/ succeeded with status 200\n",
      "INFO:pyeuropepmc.ftp_downloader:Found 612 ZIP files in PMCxxxx200\n",
      "INFO:pyeuropepmc.ftp_downloader:Found 612 ZIP files in PMCxxxx200\n",
      "INFO:pyeuropepmc.ftp_downloader:FTP GET request to https://europepmc.org/ftp/pdf/PMCxxxx998/ succeeded with status 200\n",
      "INFO:pyeuropepmc.ftp_downloader:FTP GET request to https://europepmc.org/ftp/pdf/PMCxxxx998/ succeeded with status 200\n",
      "INFO:pyeuropepmc.ftp_downloader:Found 552 ZIP files in PMCxxxx998\n",
      "INFO:pyeuropepmc.ftp_downloader:Found 552 ZIP files in PMCxxxx998\n",
      "INFO:pyeuropepmc.ftp_downloader:FTP GET request to https://europepmc.org/ftp/pdf/PMCxxxx199/ succeeded with status 200\n",
      "INFO:pyeuropepmc.ftp_downloader:FTP GET request to https://europepmc.org/ftp/pdf/PMCxxxx199/ succeeded with status 200\n",
      "INFO:pyeuropepmc.ftp_downloader:Found 598 ZIP files in PMCxxxx199\n",
      "INFO:pyeuropepmc.ftp_downloader:Found 598 ZIP files in PMCxxxx199\n",
      "INFO:pyeuropepmc.ftp_downloader:FTP GET request to https://europepmc.org/ftp/pdf/PMCxxxx993/ succeeded with status 200\n",
      "INFO:pyeuropepmc.ftp_downloader:FTP GET request to https://europepmc.org/ftp/pdf/PMCxxxx993/ succeeded with status 200\n",
      "INFO:pyeuropepmc.ftp_downloader:Found 532 ZIP files in PMCxxxx993\n",
      "INFO:pyeuropepmc.ftp_downloader:Found PMC1976993 in PMCxxxx993\n",
      "INFO:pyeuropepmc.ftp_downloader:Found 532 ZIP files in PMCxxxx993\n",
      "INFO:pyeuropepmc.ftp_downloader:Found PMC1976993 in PMCxxxx993\n",
      "INFO:pyeuropepmc.ftp_downloader:FTP GET request to https://europepmc.org/ftp/pdf/PMCxxxx994/ succeeded with status 200\n",
      "INFO:pyeuropepmc.ftp_downloader:FTP GET request to https://europepmc.org/ftp/pdf/PMCxxxx994/ succeeded with status 200\n",
      "INFO:pyeuropepmc.ftp_downloader:Found 509 ZIP files in PMCxxxx994\n",
      "INFO:pyeuropepmc.ftp_downloader:Search completed: found 2/3 PMC IDs in 10 directories\n",
      "INFO:pyeuropepmc.ftp_downloader:Found 509 ZIP files in PMCxxxx994\n",
      "INFO:pyeuropepmc.ftp_downloader:Search completed: found 2/3 PMC IDs in 10 directories\n"
     ]
    },
    {
     "name": "stdout",
     "output_type": "stream",
     "text": [
      "\n",
      "📋 Availability Report:\n",
      "  PMC1911200: ✅ Available (43.0 KB)\n",
      "  PMC1976993: ✅ Available (111.0 KB)\n",
      "  PMC9999999: ❌ Not found\n"
     ]
    }
   ],
   "source": [
    "# Check which PMC IDs are available before downloading\n",
    "test_pmcids = [\"1911200\", \"1976993\", \"9999999\"\n",
    "               ]  # Mix of available and unavailable\n",
    "print(f\"🔍 Checking availability of {len(test_pmcids)} PMC IDs...\")\n",
    "\n",
    "available_files = downloader.query_pmcids_in_ftp(test_pmcids)\n",
    "\n",
    "print(\"\\n📋 Availability Report:\")\n",
    "for pmcid in test_pmcids:\n",
    "    if available_files[pmcid]:\n",
    "        file_info = available_files[pmcid]\n",
    "        size_kb = file_info[\"size\"] / 1024\n",
    "        print(f\"  PMC{pmcid}: ✅ Available ({size_kb:.1f} KB)\")\n",
    "    else:\n",
    "        print(f\"  PMC{pmcid}: ❌ Not found\")"
   ]
  },
  {
   "cell_type": "markdown",
   "id": "1bffccf9",
   "metadata": {},
   "source": [
    "## What Gets Downloaded"
   ]
  },
  {
   "cell_type": "code",
   "execution_count": 17,
   "id": "27af2fac",
   "metadata": {},
   "outputs": [
    {
     "name": "stdout",
     "output_type": "stream",
     "text": [
      "📁 Downloaded files:\n",
      "  PMC1911200.pdf: 54.7 KB\n",
      "  PMC3312970.pdf: 2376.5 KB\n",
      "  PMCPMC3257301.xml: 120.7 KB\n",
      "  PMC3312970.pdf: 2376.5 KB\n",
      "  PMC4123456.pdf: 118.7 KB\n",
      "  PMC5678901.pdf: 680.8 KB\n",
      "  PMC1911200.pdf: 54.7 KB\n",
      "  PMC1034000.pdf: 257.0 KB\n",
      "  PMC1911200.pdf: 54.7 KB\n",
      "  PMC1976993.pdf: 116.3 KB\n",
      "  PMC1716993.pdf: 129.8 KB\n",
      "  PMC1716993.pdf: 129.8 KB\n",
      "  PMC1911200.pdf: 54.7 KB\n",
      "  PMC1716993.pdf: 129.8 KB\n",
      "  PMC5251083.pdf: 631.8 KB\n"
     ]
    }
   ],
   "source": [
    "# Show what files were created\n",
    "print(\"📁 Downloaded files:\")\n",
    "for file_path in sorted(downloads_dir.rglob(\"*\")):\n",
    "    if file_path.is_file():\n",
    "        size_kb = file_path.stat().st_size / 1024\n",
    "        print(f\"  {file_path.name}: {size_kb:.1f} KB\")"
   ]
  },
  {
   "cell_type": "markdown",
   "id": "bf7c7bad",
   "metadata": {},
   "source": [
    "## Key Features\n",
    "\n",
    "- **Automatic Discovery**: Finds PMC articles in the Europe PMC FTP server\n",
    "- **Bulk Download**: Download multiple articles efficiently  \n",
    "- **PDF Extraction**: Automatically extracts PDFs from ZIP files\n",
    "- **Error Handling**: Clear error messages for missing or unavailable articles\n",
    "- **Smart Directory Navigation**: Intelligently searches FTP directory structure\n",
    "\n",
    "## Common Use Cases\n",
    "\n",
    "1. **Research Data Collection**: Download papers for systematic reviews\n",
    "2. **Text Mining**: Bulk download for NLP and text analysis projects\n",
    "3. **Backup**: Archive important papers locally\n",
    "4. **Offline Reading**: Download papers for offline access\n",
    "\n",
    "That's it! The FTP downloader makes it easy to get full-text articles from Europe PMC."
   ]
  }
 ],
 "metadata": {
  "kernelspec": {
   "display_name": "pyeuropepmc-py3.10",
   "language": "python",
   "name": "python3"
  },
  "language_info": {
   "codemirror_mode": {
    "name": "ipython",
    "version": 3
   },
   "file_extension": ".py",
   "mimetype": "text/x-python",
   "name": "python",
   "nbconvert_exporter": "python",
   "pygments_lexer": "ipython3",
   "version": "3.10.13"
  }
 },
 "nbformat": 4,
 "nbformat_minor": 5
}
