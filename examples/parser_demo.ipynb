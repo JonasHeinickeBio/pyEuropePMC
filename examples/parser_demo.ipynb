{
 "cells": [
  {
   "cell_type": "markdown",
   "id": "a696ceb9",
   "metadata": {},
   "source": [
    "# EuropePMCParser Demo\n",
    "This notebook demonstrates the main parsing functions of `EuropePMCParser` for JSON, XML, and Dublin Core XML responses."
   ]
  },
  {
   "cell_type": "code",
   "execution_count": 24,
   "id": "71b03142",
   "metadata": {},
   "outputs": [],
   "source": [
    "# Import the parser class\n",
    "from pyeuropepmc.parser import EuropePMCParser"
   ]
  },
  {
   "cell_type": "code",
   "execution_count": 25,
   "id": "184d2570",
   "metadata": {},
   "outputs": [],
   "source": [
    "# Load fixture data for demo\n",
    "import json\n",
    "from pathlib import Path\n",
    "\n",
    "# Paths to fixture files\n",
    "json_path = Path('../tests/fixtures/search_cancer.json')\n",
    "xml_path = Path('../tests/fixtures/search_cancer.xml')\n",
    "dc_xml_path = Path('../tests/fixtures/search_cancer_dc.xml')\n",
    "\n",
    "# Load JSON data\n",
    "with open(json_path, 'r', encoding='utf-8') as f:\n",
    "    real_json_data = json.load(f)\n",
    "\n",
    "# Load XML data\n",
    "with open(xml_path, 'r', encoding='utf-8') as f:\n",
    "    real_xml_data = f.read()\n",
    "\n",
    "# Load DC XML data\n",
    "with open(dc_xml_path, 'r', encoding='utf-8') as f:\n",
    "    real_dc_xml_data = f.read()"
   ]
  },
  {
   "cell_type": "markdown",
   "id": "035ca832",
   "metadata": {},
   "source": [
    "## 1. JSON Parsing\n",
    "Parse a typical Europe PMC JSON response."
   ]
  },
  {
   "cell_type": "code",
   "execution_count": 26,
   "id": "d9a24086",
   "metadata": {},
   "outputs": [
    {
     "data": {
      "text/plain": [
       "[{'id': '39709209',\n",
       "  'source': 'MED',\n",
       "  'pmid': '39709209',\n",
       "  'doi': '10.1016/s0140-6736(24)02600-x',\n",
       "  'title': 'Abscopal response in a patient with fibrolamellar hepatocellular carcinoma following radiotherapy.',\n",
       "  'authorString': \"Schoenfeld JD, Haas-Kogan DA, O'Neill AF.\",\n",
       "  'journalTitle': 'Lancet',\n",
       "  'issue': '10471',\n",
       "  'journalVolume': '404',\n",
       "  'pubYear': '2025',\n",
       "  'journalIssn': '0140-6736; 1474-547x; ',\n",
       "  'pageInfo': '2603-2604',\n",
       "  'pubType': 'journal article',\n",
       "  'isOpenAccess': 'N',\n",
       "  'inEPMC': 'N',\n",
       "  'inPMC': 'N',\n",
       "  'hasPDF': 'N',\n",
       "  'hasBook': 'N',\n",
       "  'hasSuppl': 'N',\n",
       "  'citedByCount': 0,\n",
       "  'hasReferences': 'N',\n",
       "  'hasTextMinedTerms': 'N',\n",
       "  'hasDbCrossReferences': 'N',\n",
       "  'hasLabsLinks': 'N',\n",
       "  'hasTMAccessionNumbers': 'N',\n",
       "  'firstIndexDate': '2024-12-22',\n",
       "  'firstPublicationDate': '2025-12-01'},\n",
       " {'id': '39709208',\n",
       "  'source': 'MED',\n",
       "  'pmid': '39709208',\n",
       "  'pmcid': 'PMC12124214',\n",
       "  'fullTextIdList': {'fullTextId': ['PMC12124214']},\n",
       "  'doi': '10.1016/s0140-6736(24)02716-8',\n",
       "  'title': 'Department of Error.',\n",
       "  'journalTitle': 'Lancet',\n",
       "  'issue': '10471',\n",
       "  'journalVolume': '404',\n",
       "  'pubYear': '2025',\n",
       "  'journalIssn': '0140-6736; 1474-547x; ',\n",
       "  'pageInfo': '2542',\n",
       "  'pubType': 'published erratum; correction',\n",
       "  'isOpenAccess': 'N',\n",
       "  'inEPMC': 'Y',\n",
       "  'inPMC': 'Y',\n",
       "  'hasPDF': 'Y',\n",
       "  'hasBook': 'N',\n",
       "  'hasSuppl': 'N',\n",
       "  'citedByCount': 0,\n",
       "  'hasReferences': 'N',\n",
       "  'hasTextMinedTerms': 'Y',\n",
       "  'hasDbCrossReferences': 'N',\n",
       "  'hasLabsLinks': 'Y',\n",
       "  'hasTMAccessionNumbers': 'N',\n",
       "  'firstIndexDate': '2024-12-22',\n",
       "  'firstPublicationDate': '2025-12-01'},\n",
       " {'id': '40468710',\n",
       "  'source': 'MED',\n",
       "  'pmid': '40468710',\n",
       "  'doi': '10.1111/bjhp.12807',\n",
       "  'title': 'The role of psychological flexibility in relation to health outcomes in people in remission from cancer.',\n",
       "  'authorString': 'Al-Abbadey M, Tomescu-Stachie S, Kaklamanou D, Jarrett N, Merwood A, Tyndall I, McCracken L.',\n",
       "  'journalTitle': 'Br J Health Psychol',\n",
       "  'issue': '3',\n",
       "  'journalVolume': '30',\n",
       "  'pubYear': '2025',\n",
       "  'journalIssn': '1359-107x; 2044-8287; ',\n",
       "  'pageInfo': 'e12807',\n",
       "  'pubType': 'journal article',\n",
       "  'isOpenAccess': 'N',\n",
       "  'inEPMC': 'N',\n",
       "  'inPMC': 'N',\n",
       "  'hasPDF': 'N',\n",
       "  'hasBook': 'N',\n",
       "  'hasSuppl': 'N',\n",
       "  'citedByCount': 0,\n",
       "  'hasReferences': 'Y',\n",
       "  'hasTextMinedTerms': 'N',\n",
       "  'hasDbCrossReferences': 'N',\n",
       "  'hasLabsLinks': 'N',\n",
       "  'hasTMAccessionNumbers': 'N',\n",
       "  'firstIndexDate': '2025-06-11',\n",
       "  'firstPublicationDate': '2025-09-01'}]"
      ]
     },
     "execution_count": 26,
     "metadata": {},
     "output_type": "execute_result"
    }
   ],
   "source": [
    "# Parse real Europe PMC JSON response from fixture\n",
    "parsed_json = EuropePMCParser.parse_json(real_json_data)\n",
    "parsed_json[:3]  # Show first 3 results for brevity"
   ]
  },
  {
   "cell_type": "markdown",
   "id": "81162f4d",
   "metadata": {},
   "source": [
    "## 2. XML Parsing\n",
    "Parse a Europe PMC XML response."
   ]
  },
  {
   "cell_type": "code",
   "execution_count": 27,
   "id": "6d4fd9ff",
   "metadata": {},
   "outputs": [
    {
     "data": {
      "text/plain": [
       "[{'id': '39709209',\n",
       "  'source': 'MED',\n",
       "  'pmid': '39709209',\n",
       "  'doi': '10.1016/s0140-6736(24)02600-x',\n",
       "  'title': 'Abscopal response in a patient with fibrolamellar hepatocellular carcinoma following radiotherapy.',\n",
       "  'authorString': \"Schoenfeld JD, Haas-Kogan DA, O'Neill AF.\",\n",
       "  'journalTitle': 'Lancet',\n",
       "  'issue': '10471',\n",
       "  'journalVolume': '404',\n",
       "  'pubYear': '2025',\n",
       "  'journalIssn': '0140-6736; 1474-547x; ',\n",
       "  'pageInfo': '2603-2604',\n",
       "  'pubType': 'journal article',\n",
       "  'isOpenAccess': 'N',\n",
       "  'inEPMC': 'N',\n",
       "  'inPMC': 'N',\n",
       "  'hasPDF': 'N',\n",
       "  'hasBook': 'N',\n",
       "  'hasSuppl': 'N',\n",
       "  'citedByCount': '0',\n",
       "  'hasReferences': 'N',\n",
       "  'hasTextMinedTerms': 'N',\n",
       "  'hasDbCrossReferences': 'N',\n",
       "  'hasLabsLinks': 'N',\n",
       "  'hasTMAccessionNumbers': 'N',\n",
       "  'firstIndexDate': '2024-12-22',\n",
       "  'firstPublicationDate': '2025-12-01'},\n",
       " {'id': '39709208',\n",
       "  'source': 'MED',\n",
       "  'pmid': '39709208',\n",
       "  'pmcid': 'PMC12124214',\n",
       "  'fullTextIdList': None,\n",
       "  'doi': '10.1016/s0140-6736(24)02716-8',\n",
       "  'title': 'Department of Error.',\n",
       "  'journalTitle': 'Lancet',\n",
       "  'issue': '10471',\n",
       "  'journalVolume': '404',\n",
       "  'pubYear': '2025',\n",
       "  'journalIssn': '0140-6736; 1474-547x; ',\n",
       "  'pageInfo': '2542',\n",
       "  'pubType': 'published erratum; correction',\n",
       "  'isOpenAccess': 'N',\n",
       "  'inEPMC': 'Y',\n",
       "  'inPMC': 'Y',\n",
       "  'hasPDF': 'Y',\n",
       "  'hasBook': 'N',\n",
       "  'hasSuppl': 'N',\n",
       "  'citedByCount': '0',\n",
       "  'hasReferences': 'N',\n",
       "  'hasTextMinedTerms': 'Y',\n",
       "  'hasDbCrossReferences': 'N',\n",
       "  'hasLabsLinks': 'Y',\n",
       "  'hasTMAccessionNumbers': 'N',\n",
       "  'firstIndexDate': '2024-12-22',\n",
       "  'firstPublicationDate': '2025-12-01'},\n",
       " {'id': '40468710',\n",
       "  'source': 'MED',\n",
       "  'pmid': '40468710',\n",
       "  'doi': '10.1111/bjhp.12807',\n",
       "  'title': 'The role of psychological flexibility in relation to health outcomes in people in remission from cancer.',\n",
       "  'authorString': 'Al-Abbadey M, Tomescu-Stachie S, Kaklamanou D, Jarrett N, Merwood A, Tyndall I, McCracken L.',\n",
       "  'journalTitle': 'Br J Health Psychol',\n",
       "  'issue': '3',\n",
       "  'journalVolume': '30',\n",
       "  'pubYear': '2025',\n",
       "  'journalIssn': '1359-107x; 2044-8287; ',\n",
       "  'pageInfo': 'e12807',\n",
       "  'pubType': 'journal article',\n",
       "  'isOpenAccess': 'N',\n",
       "  'inEPMC': 'N',\n",
       "  'inPMC': 'N',\n",
       "  'hasPDF': 'N',\n",
       "  'hasBook': 'N',\n",
       "  'hasSuppl': 'N',\n",
       "  'citedByCount': '0',\n",
       "  'hasReferences': 'Y',\n",
       "  'hasTextMinedTerms': 'N',\n",
       "  'hasDbCrossReferences': 'N',\n",
       "  'hasLabsLinks': 'N',\n",
       "  'hasTMAccessionNumbers': 'N',\n",
       "  'firstIndexDate': '2025-06-11',\n",
       "  'firstPublicationDate': '2025-09-01'}]"
      ]
     },
     "execution_count": 27,
     "metadata": {},
     "output_type": "execute_result"
    }
   ],
   "source": [
    "# Parse real Europe PMC XML response from fixture\n",
    "parsed_xml = EuropePMCParser.parse_xml(real_xml_data)\n",
    "parsed_xml[:3]  # Show first 3 results for brevity"
   ]
  },
  {
   "cell_type": "markdown",
   "id": "277274c3",
   "metadata": {},
   "source": [
    "## 3. Dublin Core XML Parsing\n",
    "Parse a Europe PMC Dublin Core XML response."
   ]
  },
  {
   "cell_type": "code",
   "execution_count": 28,
   "id": "a2cd99a8",
   "metadata": {},
   "outputs": [
    {
     "data": {
      "text/plain": [
       "[{'title': 'Abscopal response in a patient with fibrolamellar hepatocellular carcinoma following radiotherapy.',\n",
       "  'creator': ['Schoenfeld, JD', 'Haas-Kogan, DA', \"O'Neill, AF\"],\n",
       "  'contributor': \"Department of Radiation Oncology, Brigham and Women's Hospital, Dana-Farber Cancer Institute and Harvard Medical School, Boston, MA, USA. Electronic address: jdschoenfeld@partners.org.\",\n",
       "  'description': 'Journal Article',\n",
       "  'date': '2025-12-01',\n",
       "  'created': '2025-12-01',\n",
       "  'identifier': ['http://europepmc.org/abstract/MED/39709209',\n",
       "   'https://doi.org/10.1016/s0140-6736(24)02600-x'],\n",
       "  'type': 'Text',\n",
       "  'language': 'eng',\n",
       "  'bibliographicCitation': [\"Schoenfeld JD, Haas-Kogan DA, O'Neill AF. Abscopal response in a patient with fibrolamellar hepatocellular carcinoma following radiotherapy. Lancet. 2025 Dec;404(10471):2603-2604. doi:10.1016/s0140-6736(24)02600-x. PubMed PMID:39709209.\",\n",
       "   '&ctx_ver=Z39.88-2004&rft.jtitle=Lancet%20%28London%2C%20England%29&rft.stitle=Lancet&rft.volume=404&rft.issue=10471&rft.pages=2603-2604'],\n",
       "  'isPartOf': ['urn:ISSN:0140-6736',\n",
       "   'urn:ISSN:1474-547X',\n",
       "   'http://www.ncbi.nlm.nih.gov/nlmcatalog/?term=2985213R']},\n",
       " {'title': 'Department of Error.',\n",
       "  'description': 'Published Erratum; correction',\n",
       "  'date': '2025-12-01',\n",
       "  'created': '2025-12-01',\n",
       "  'identifier': ['http://europepmc.org/abstract/MED/39709208',\n",
       "   'https://doi.org/10.1016/s0140-6736(24)02716-8'],\n",
       "  'type': 'Text',\n",
       "  'language': 'eng',\n",
       "  'bibliographicCitation': ['Department of Error. Lancet. 2025 Dec;404(10471):2542. doi:10.1016/s0140-6736(24)02716-8. PubMed PMID:39709208; PubMed Central PMCID: PMC12124214.',\n",
       "   '&ctx_ver=Z39.88-2004&rft.jtitle=Lancet%20%28London%2C%20England%29&rft.stitle=Lancet&rft.volume=404&rft.issue=10471&rft.pages=2542'],\n",
       "  'isVersionOf': 'http://europepmc.org/articles/PMC12124214',\n",
       "  'isPartOf': ['urn:ISSN:0140-6736',\n",
       "   'urn:ISSN:1474-547X',\n",
       "   'http://www.ncbi.nlm.nih.gov/nlmcatalog/?term=2985213R']},\n",
       " {'title': 'The role of psychological flexibility in relation to health outcomes in people in remission from cancer.',\n",
       "  'creator': ['Al-Abbadey, M',\n",
       "   'Tomescu-Stachie, S',\n",
       "   'Kaklamanou, D',\n",
       "   'Jarrett, N',\n",
       "   'Merwood, A',\n",
       "   'Tyndall, I',\n",
       "   'McCracken, L'],\n",
       "  'contributor': 'School of Psychology, Sport, and Health Sciences, Faculty of Science and Health, University of Portsmouth, Portsmouth, UK.',\n",
       "  'subject': ['Neoplasms', 'Adaptation, Psychological'],\n",
       "  'description': 'Journal Article',\n",
       "  'date': '2025-09-01',\n",
       "  'created': '2025-09-01',\n",
       "  'identifier': ['http://europepmc.org/abstract/MED/40468710',\n",
       "   'https://doi.org/10.1111/bjhp.12807'],\n",
       "  'type': 'Text',\n",
       "  'language': 'eng',\n",
       "  'bibliographicCitation': ['Al-Abbadey M, Tomescu-Stachie S, Kaklamanou D, Jarrett N, Merwood A, Tyndall I, McCracken L. The role of psychological flexibility in relation to health outcomes in people in remission from cancer. Br J Health Psychol. 2025 Sep;30(3):e12807. doi:10.1111/bjhp.12807. PubMed PMID:40468710.',\n",
       "   '&ctx_ver=Z39.88-2004&rft.jtitle=British%20journal%20of%20health%20psychology&rft.stitle=Br%20J%20Health%20Psychol&rft.volume=30&rft.issue=3&rft.pages=e12807'],\n",
       "  'abstract': '<h4>Objective</h4>This study investigated whether psychological flexibility, the key construct in the Acceptance and Commitment Therapy (ACT) model of psychological and behavioural change, significantly predicts wellbeing and functioning in people living with and beyond cancer.<h4>Design</h4>This was an online, prospective, longitudinal, correlational study with two time points that were approximately three months apart.<h4>Methods</h4>All participants were required to be at least 18\\u2009years of age, be in cancer remission and resident in the United Kingdom. Recruitment for Time-point 1 (n\\u2009=\\u2009331) took place from May to July 2023 and Time-point 2 (n\\u2009=\\u2009266; 80% retention rate) took place between Sept and Nov 2023 using Prolific (an online recruitment platform). The mean age was 51.65 (SD\\u2009=\\u200913.99). The mean length of remission in months was 89.45 (SD\\u2009=\\u200980.59) and mean years since diagnosis was 8.91 (SD\\u2009=\\u20096.99). Data were analysed cross-sectionally and longitudinally. Covariates adjusted for included age, years since diagnosis, time in remission, ethnicity, cancer type and cancer stage.<h4>Results</h4>Cross-sectional hierarchical regression analyses showed Time-point 1 psychological flexibility significantly (at p\\u2009<\\u2009.001) predicted anxiety, depression, stress, fatigue interference, fear of cancer recurrence, quality of life and pain interference. Psychological flexibility at Time-point 1 significantly predicted all psychosocial variables at Time-point 2, while adjusting for confounding variables.<h4>Conclusions</h4>The findings show that psychological flexibility predicts key psychosocial outcomes relevant for people in remission from cancer. This study provides evidence for the relevance of psychological processes targeted in ACT-based interventions in the context of people living with and beyond cancer.',\n",
       "  'isPartOf': ['urn:ISSN:1359-107X',\n",
       "   'urn:ISSN:2044-8287',\n",
       "   'http://www.ncbi.nlm.nih.gov/nlmcatalog/?term=9605409']}]"
      ]
     },
     "execution_count": 28,
     "metadata": {},
     "output_type": "execute_result"
    }
   ],
   "source": [
    "# Parse real Europe PMC Dublin Core XML response from fixture\n",
    "parsed_dc = EuropePMCParser.parse_dc(real_dc_xml_data)\n",
    "parsed_dc[:3]  # Show first 3 results for brevity"
   ]
  },
  {
   "cell_type": "markdown",
   "id": "b5a912ec",
   "metadata": {},
   "source": [
    "## 4. Error Handling Demo\n",
    "Show how the parser handles invalid input gracefully."
   ]
  },
  {
   "cell_type": "code",
   "execution_count": 29,
   "id": "41057eb3",
   "metadata": {},
   "outputs": [
    {
     "name": "stderr",
     "output_type": "stream",
     "text": [
      "Expected list but got str, returning empty results\n"
     ]
    },
    {
     "data": {
      "text/plain": [
       "[]"
      ]
     },
     "execution_count": 29,
     "metadata": {},
     "output_type": "execute_result"
    }
   ],
   "source": [
    "# Invalid JSON: result is not a list\n",
    "invalid_json = {\n",
    "    'hitCount': 1,\n",
    "    'resultList': {'result': 'not a list'}\n",
    "}\n",
    "EuropePMCParser.parse_json(invalid_json)  # Returns []"
   ]
  },
  {
   "cell_type": "code",
   "execution_count": 30,
   "id": "13163f82",
   "metadata": {},
   "outputs": [
    {
     "name": "stderr",
     "output_type": "stream",
     "text": [
      "XML parsing error: no element found: line 1, column 16. The response appears malformed.\n"
     ]
    },
    {
     "name": "stdout",
     "output_type": "stream",
     "text": [
      "ParseError no element found: line 1, column 16\n"
     ]
    }
   ],
   "source": [
    "# Invalid XML: malformed\n",
    "try:\n",
    "    EuropePMCParser.parse_xml('<malformed><xml>')\n",
    "except Exception as e:\n",
    "    print(type(e).__name__, e)  # Should show ET.ParseError"
   ]
  },
  {
   "cell_type": "code",
   "execution_count": 31,
   "id": "a1419fc9",
   "metadata": {},
   "outputs": [
    {
     "name": "stderr",
     "output_type": "stream",
     "text": [
      "Dublin Core XML parsing error: no element found: line 1, column 16. The response appears malformed.\n"
     ]
    },
    {
     "name": "stdout",
     "output_type": "stream",
     "text": [
      "ParseError no element found: line 1, column 16\n"
     ]
    }
   ],
   "source": [
    "# Invalid DC XML: malformed\n",
    "try:\n",
    "    EuropePMCParser.parse_dc('<malformed><xml>')\n",
    "except Exception as e:\n",
    "    print(type(e).__name__, e)  # Should show ET.ParseError"
   ]
  }
 ],
 "metadata": {
  "kernelspec": {
   "display_name": "pyeuropepmc-py3.10",
   "language": "python",
   "name": "python3"
  },
  "language_info": {
   "codemirror_mode": {
    "name": "ipython",
    "version": 3
   },
   "file_extension": ".py",
   "mimetype": "text/x-python",
   "name": "python",
   "nbconvert_exporter": "python",
   "pygments_lexer": "ipython3",
   "version": "3.10.13"
  }
 },
 "nbformat": 4,
 "nbformat_minor": 5
}
